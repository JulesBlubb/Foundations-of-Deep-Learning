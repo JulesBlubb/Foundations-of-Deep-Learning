{
 "cells": [
  {
   "cell_type": "markdown",
   "metadata": {},
   "source": [
    "#### Group Members\n",
    "\n",
    "* Hovekamp, Amadeus\n",
    "* Klaiber, Megan\n",
    "* Weilbach, Juliane"
   ]
  },
  {
   "cell_type": "code",
   "execution_count": 29,
   "metadata": {},
   "outputs": [],
   "source": [
    "import numpy as np\n",
    "import math\n",
    "import matplotlib.pyplot as plt\n",
    "import scipy.linalg as la"
   ]
  },
  {
   "cell_type": "markdown",
   "metadata": {},
   "source": [
    "#### help functions"
   ]
  },
  {
   "cell_type": "code",
   "execution_count": 30,
   "metadata": {},
   "outputs": [],
   "source": [
    "# check if matrix is quadratic and a 2x2 matrix\n",
    "def is_2x2_matrix(matrix):\n",
    "    dim = np.shape(matrix)\n",
    "    if dim[0] != dim[1]:\n",
    "        print('Matrix is not quadratic!')\n",
    "        return False\n",
    "    elif dim[0] != 2:\n",
    "        print('Matrix is not a 2x2 matrix!')\n",
    "        return False\n",
    "    else:\n",
    "        return True\n",
    "\n",
    "\n",
    "def matrixMultiplication(matrixA, matrixB):\n",
    "    dimsA = np.shape(matrixA)\n",
    "    dimsB = np.shape(matrixB)\n",
    "    \n",
    "    #print(\"matrixA\\n\", matrixA)\n",
    "    #print(\"dimsA\", dimsA)\n",
    "    #print(\"matrixB\\n\", matrixB)\n",
    "    #print(\"dimsB\", dimsB)\n",
    "    \n",
    "    if(dimsA[1] != dimsB[0]):\n",
    "        print(\"Error. Matrix dimensions do not fit!\")\n",
    "    else:\n",
    "        # init result matrix with zeros of correct shape\n",
    "        matrixC = np.zeros((dimsA[0], dimsB[1]))\n",
    "        \n",
    "        for rowA in range(0, dimsA[0]):\n",
    "            for colB in range(0, dimsB[1]):\n",
    "                for k in range(0, dimsA[1]):\n",
    "                    matrixC[rowA, colB] += matrixA[rowA, k] * matrixB[k, colB]\n",
    "        return matrixC\n",
    "    \n",
    "#A = np.array([[2,1],[1,1],[2,1]])\n",
    "#B = np.array([[2,1,1],[3,2,3]])\n",
    "#C = matrixMultiplication(A , B)\n",
    "#C_correct = np.matmul(A , B)\n",
    "#print(\"C\\n\", C)\n",
    "#print(\"C_correct\\n\", C_correct)"
   ]
  },
  {
   "cell_type": "markdown",
   "metadata": {
    "collapsed": true
   },
   "source": [
    "## Assignment 1"
   ]
  },
  {
   "cell_type": "markdown",
   "metadata": {},
   "source": [
    "### 1. Jupyter Notebooks"
   ]
  },
  {
   "cell_type": "markdown",
   "metadata": {},
   "source": [
    "**(d)** It's useful for people who didn't worked with jupyter notebooks yet."
   ]
  },
  {
   "cell_type": "markdown",
   "metadata": {},
   "source": [
    "### 2. Eigenvalue Decomposition\n",
    "Given the matrix $A=\\frac{1}{4}\\left[ \\begin{array}{rr}\n",
    "7 & -\\sqrt{3}  \\\\\n",
    "-\\sqrt{3} & 5  \\\\\n",
    "\\end{array}\\right]$.\n",
    "\n",
    "#### (a) Compute the eigenvalue decomposition $A=QΛQ^T$ with $Λ=diag(λ_1,λ_2)$."
   ]
  },
  {
   "cell_type": "code",
   "execution_count": 31,
   "metadata": {},
   "outputs": [
    {
     "name": "stdout",
     "output_type": "stream",
     "text": [
      "Matrix:\n",
      " [[ 1.75      -0.4330127]\n",
      " [-0.4330127  1.25     ]]\n",
      "\n",
      "Diagonal matrix Lambda with eigenvalues:\n",
      " [[2. 0.]\n",
      " [0. 1.]] \n",
      "\n",
      "Matrix Q with eigenvectors as columns:\n",
      " [[ 0.8660254 -0.5      ]\n",
      " [-0.5       -0.8660254]]\n",
      "\n",
      "So A = Q * Lambda * Q.T:\n",
      " [[ 1.75      -0.4330127]\n",
      " [-0.4330127  1.25     ]]\n"
     ]
    }
   ],
   "source": [
    "A = 1/4 * np.array([[7, -np.sqrt(3)], [-np.sqrt(3), 5]])\n",
    "\n",
    "# pq formula\n",
    "def pq_formula(p, q):\n",
    "    p_half = -p/2\n",
    "    sqrt = np.sqrt(p_half**2 - q)\n",
    "    lamda_1 = p_half + sqrt \n",
    "    lamda_2 = p_half - sqrt\n",
    "    return np.array([lamda_1, lamda_2])\n",
    "\n",
    "# compute eigenvalues\n",
    "def eigenvalues(matrix):\n",
    "    if is_2x2_matrix(matrix):\n",
    "        a = matrix[0,0]\n",
    "        b = matrix[0,1]\n",
    "        c = matrix[1,0]\n",
    "        d = matrix[1,1]\n",
    "\n",
    "        p = -(a+d)\n",
    "        q = a*d-b*c\n",
    "\n",
    "        eigenvals = pq_formula(p, q)\n",
    "    \n",
    "        #print('Calculated eigenvalues:\\n', eigenvals)\n",
    "        return eigenvals\n",
    "    else:\n",
    "        print(\"Error! eigenvalues only supports 2x2 matrices!\")\n",
    "\n",
    "# compute eigenvectors\n",
    "def eigenvectors(matrix, eigenvals):\n",
    "    if is_2x2_matrix(matrix):\n",
    "        eigenvec = []\n",
    "        a = matrix[0,0]\n",
    "        b = matrix[0,1]\n",
    "        c = matrix[1,0]\n",
    "        d = matrix[1,1]\n",
    "        if c != 0:\n",
    "            eigenvec.append([eigenvals[0]-d,c])\n",
    "            eigenvec.append([eigenvals[1]-d,c])\n",
    "        elif b != 0:\n",
    "            eigenvec.append([b,eigenvals[0] - a])\n",
    "            eigenvec.append([b,eigenvals[1] - a])\n",
    "        else:\n",
    "            eigenvec.append([1,0])\n",
    "            eigenvec.append([0,1])\n",
    "\n",
    "        # print(\"before scaling:\", eigenvec)\n",
    "        for eigvec in eigenvec:\n",
    "            length = np.sqrt(eigvec[0]**2+eigvec[1]**2)\n",
    "            eigvec[0] /= length\n",
    "            eigvec[1] /= length\n",
    "        # print(\"after scaling:\", eigenvec)\n",
    "        return eigenvec\n",
    "    else:\n",
    "        print(\"Error! eigenvectors only supports 2x2 matrices!\")\n",
    "    \n",
    "# compute eigenvalue decomposition\n",
    "def eigenvalue_decomposition(matrix):\n",
    "    print('Matrix:\\n', matrix)\n",
    "    if is_2x2_matrix(matrix):\n",
    "        # compute eigenvalues\n",
    "        values = eigenvalues(matrix)\n",
    "        # compute eigenvectors\n",
    "        vectors = eigenvectors(matrix, values)\n",
    "        \n",
    "        Lambda = np.diag(values)\n",
    "        Q = np.array(vectors)\n",
    "        \n",
    "        print('\\nDiagonal matrix Lambda with eigenvalues:\\n', Lambda,\n",
    "              '\\n\\nMatrix Q with eigenvectors as columns:\\n', Q)\n",
    "        print('\\nSo A = Q * Lambda * Q.T:\\n',\n",
    "              matrixMultiplication(matrixMultiplication(Q, Lambda) , np.transpose(Q)))\n",
    "        return Lambda, Q\n",
    "    else:\n",
    "        print(\"Error! eigenvalue_decomposition only supports 2x2 matrices!\")\n",
    "        \n",
    "\n",
    "'''\n",
    "eigenvalues_of_A = eigenvalues(A)\n",
    "print(\"Q:\\n\", Q)\n",
    "print(\"v:\\n\", Q[0])\n",
    "print(\"|v|:\\n\", np.linalg.norm(Q[0]))\n",
    "\n",
    "# compare to np.linalg.eig:\n",
    "eigval, eigvec = np.linalg.eig(A.T)\n",
    "print(\"numpy eigval\", eigval)\n",
    "print(\"numpy eigvec:\", eigvec)\n",
    "'''\n",
    "Lambda, Q = eigenvalue_decomposition(A)\n"
   ]
  },
  {
   "cell_type": "markdown",
   "metadata": {},
   "source": [
    "#### (b) Show that the columns of Q are orthonormal, i.e. the columns are of unit length and orthogonal."
   ]
  },
  {
   "cell_type": "code",
   "execution_count": 32,
   "metadata": {},
   "outputs": [
    {
     "name": "stdout",
     "output_type": "stream",
     "text": [
      "Q:\n",
      " [[ 0.8660254 -0.5      ]\n",
      " [-0.5       -0.8660254]] \n",
      "\n",
      "The columns of the matrix are orthonormal!\n"
     ]
    },
    {
     "data": {
      "text/plain": [
       "True"
      ]
     },
     "execution_count": 32,
     "metadata": {},
     "output_type": "execute_result"
    }
   ],
   "source": [
    "# compute the dot product of two vectors\n",
    "def dot_product(vec1, vec2):\n",
    "    dim_vec1 = np.shape(vec1)\n",
    "    dim_vec2 = np.shape(vec2)\n",
    "    # check if vectors have same dimension\n",
    "    if dim_vec1 != dim_vec2:\n",
    "        print('Input vectors have not the same dimension!')\n",
    "    else:\n",
    "        scalar = 0\n",
    "        for i in range(0, dim_vec1[0]):\n",
    "            scalar += vec1[i] * vec2[i]\n",
    "        return round(scalar,2)\n",
    "    \n",
    "# compute the length of a vector\n",
    "def vec_length(col):\n",
    "    dim = np.shape(col)\n",
    "    # check if input is a column\n",
    "    if len(dim) != 1:\n",
    "        print('Input is not a column!')\n",
    "        return False\n",
    "    else:\n",
    "        x = 0\n",
    "        for i in range(0,dim[0]):\n",
    "            x += col[i]**2\n",
    "        return np.sqrt(x)\n",
    "\n",
    "# check if columns of a 2x2 matrix are orthonormal\n",
    "def orthonormal_columns(matrix):\n",
    "    # dimension of input matrix\n",
    "    dim = np.shape(matrix)\n",
    "    \n",
    "    if is_2x2_matrix(matrix):\n",
    "        # check if columns are of unit length\n",
    "        for j in range(0,dim[1]):\n",
    "            if vec_length(matrix[:,j]) != 1:\n",
    "                print('Columns of the matrix are not of unit length!')\n",
    "                return False\n",
    "\n",
    "        # check if columns are orthognal\n",
    "        if dot_product(matrix[:,0], matrix[:,1]) == 0:\n",
    "            print('The columns of the matrix are orthonormal!')\n",
    "            return True\n",
    "        else:\n",
    "            print('The columns of the matrix are not orthonormal!')\n",
    "            return False\n",
    "    else:\n",
    "        print(\"Error! orthornormal_columns only supports 2x2 matrices!\")\n",
    "        \n",
    "print('Q:\\n',Q, '\\n')\n",
    "orthonormal_columns(Q)"
   ]
  },
  {
   "cell_type": "markdown",
   "metadata": {},
   "source": [
    "#### (c) Show that the matrix $QΛ^{-1}Q^T$ is the inverse of A."
   ]
  },
  {
   "cell_type": "code",
   "execution_count": 33,
   "metadata": {},
   "outputs": [
    {
     "name": "stdout",
     "output_type": "stream",
     "text": [
      "Q:\n",
      " [[ 0.8660254 -0.5      ]\n",
      " [-0.5       -0.8660254]] \n",
      "\n",
      "Lambda:\n",
      " [[2. 0.]\n",
      " [0. 1.]] \n",
      "\n",
      "Inverse of Lambda:\n",
      " [[ 0.5 -0. ]\n",
      " [-0.   1. ]] \n",
      "\n",
      "A:\n",
      " [[ 1.75      -0.4330127]\n",
      " [-0.4330127  1.25     ]] \n",
      "\n",
      "Inverse of A:\n",
      " [[0.625      0.21650635]\n",
      " [0.21650635 0.875     ]] \n",
      "\n",
      "\n",
      "So inv(A) = Q * inv(Lambda) * Q.T:\n",
      " [[0.625      0.21650635]\n",
      " [0.21650635 0.875     ]]\n"
     ]
    }
   ],
   "source": [
    "# calculate inverse for a 2x2 matrix\n",
    "def inverse(matrix):\n",
    "    if is_2x2_matrix(matrix):\n",
    "        a = matrix[0,0]\n",
    "        b = matrix[0,1]\n",
    "        c = matrix[1,0]\n",
    "        d = matrix[1,1]\n",
    "        \n",
    "        inv = 1 /(a*d-b*c) * np.array([[d, -b], [-c, a]])\n",
    "    \n",
    "        return inv\n",
    "    else:\n",
    "        print(\"Error! inverse only supports 2x2 matrices!\")\n",
    "\n",
    "print('Q:\\n',Q, '\\n')\n",
    "print('Lambda:\\n',Lambda, '\\n')\n",
    "print('Inverse of Lambda:\\n', inverse(Lambda), '\\n')\n",
    "\n",
    "print('A:\\n', A, '\\n')\n",
    "# inverse of A\n",
    "print('Inverse of A:\\n', inverse(A), '\\n')\n",
    "# result with matrix multiplication\n",
    "print('\\nSo inv(A) = Q * inv(Lambda) * Q.T:\\n', matrixMultiplication( matrixMultiplication(Q, inverse(Lambda)),np.transpose(Q)))"
   ]
  },
  {
   "cell_type": "markdown",
   "metadata": {},
   "source": [
    "**(d)** We invested approximately 4 hours for this exercise. It was time consuming to code all the simple things on our own. But we think for people who didn't worked with python yet this is useful to learn it."
   ]
  },
  {
   "cell_type": "markdown",
   "metadata": {},
   "source": [
    "### 3. Matrix Inversion\n",
    "Given the matrix $A=\\left[ \\begin{array}{rr}\n",
    "3 & 4  \\\\\n",
    "6 & 13  \\\\\n",
    "\\end{array}\\right]$.\n",
    "\n",
    "#### (a) Compute $LU$ decomposition of it, i.e. $A=L\\cdot U$, where *L* is a lowertriangular matrix and *U* is an uppertriangular matrix. Use this decomposition to solve $A\\cdot x=b$ with $b=(1,2)^T$ via forward and backward substitution.\n",
    "\n",
    "See: <a href=\"https://docs.scipy.org/doc/scipy/reference/generated/scipy.linalg.lu.html\"> SciPy Documentation for LU decomposition </a>\n",
    "and\n",
    "<a href=\"https://www.youtube.com/watch?v=rhNKncraJMk\">  LU decomposition </a>"
   ]
  },
  {
   "cell_type": "code",
   "execution_count": 25,
   "metadata": {},
   "outputs": [
    {
     "name": "stdout",
     "output_type": "stream",
     "text": [
      "A\n",
      " [[ 3  4]\n",
      " [ 6 13]]\n",
      "P\n",
      " [[ 0.  1.]\n",
      " [ 1.  0.]]\n",
      "L\n",
      " [[ 1.   0. ]\n",
      " [ 0.5  1. ]]\n",
      "U\n",
      " [[  6.   13. ]\n",
      " [  0.   -2.5]]\n",
      "[[ 3  4]\n",
      " [ 6 13]]\n"
     ]
    }
   ],
   "source": [
    "def lu_decomposition(matrix):\n",
    "    dim = np.shape(matrix)\n",
    "    # TODO!\n",
    "    #L = matrix.copy()\n",
    "    #U = np.ones((dim[0], dim[1]))\n",
    "    for i in range(1,dim[0]-1): \n",
    "        print('i: ', i)\n",
    "        for k in range(i+1, dim[0]):\n",
    "            print('k: ', k)\n",
    "\n",
    "            # calculate L\n",
    "            matrix[k,i] = matrix[k,i] / matrix[i,i]\n",
    "              \n",
    "            for j in range(i+1, dim[0]):\n",
    "                # calculate U\n",
    "                matrix[k,j] = matrix[k,j] - matrix[k,i] * matrix[i,j]\n",
    "    \n",
    "    return matrix\n",
    "\n",
    "\n",
    "\n",
    "A = np.array([[3, 4], [6, 13]])\n",
    "print(\"A\\n\", A)\n",
    "\n",
    "P, L, U = la.lu(A)\n",
    "print(\"P\\n\", P)\n",
    "print(\"L\\n\", L)\n",
    "print(\"U\\n\", U)\n",
    "\n",
    "print(lu_decomposition(A))\n",
    "\n",
    "\n",
    "#L, U = lu_decomposition(A)\n",
    "#print(matrixMultiplication(L,U))\n",
    "\n",
    "\n",
    "b = np.array([1,2])\n"
   ]
  },
  {
   "cell_type": "markdown",
   "metadata": {},
   "source": [
    "#### (b) Use Gauss elimination to explicitly calculate the inverse of $A$ and show that it yields the same solution $x = A^{-1}\\cdot b$ from part (a)."
   ]
  },
  {
   "cell_type": "code",
   "execution_count": null,
   "metadata": {},
   "outputs": [],
   "source": []
  },
  {
   "cell_type": "markdown",
   "metadata": {},
   "source": [
    "#### (c) TODO feedback"
   ]
  },
  {
   "cell_type": "markdown",
   "metadata": {},
   "source": [
    "### 4. Vector Norms\n",
    "\n",
    "#### (a) Compute the  $\\lVert\\cdot\\rVert_{1}, \\lVert\\cdot\\rVert_{2}, \\lVert\\cdot\\rVert_{8}  $ and  $\\lVert\\cdot \\rVert_{\\infty} $ norms of the following vectors:  \n",
    "<center>$x_{1} = \\begin{pmatrix}24\\\\3\\\\2\\\\31\\end{pmatrix}$, $x_{2} = \\begin{pmatrix}27\\\\20\\\\26\\\\21\\end{pmatrix}$, $x_{3} = \\begin{pmatrix}30\\\\21\\\\27\\\\5\\end{pmatrix} $ and $ x_{4} = \\begin{pmatrix}26\\\\28\\\\25\\\\14\\end{pmatrix}$.</center>\n",
    "\n"
   ]
  },
  {
   "cell_type": "code",
   "execution_count": 34,
   "metadata": {},
   "outputs": [
    {
     "name": "stdout",
     "output_type": "stream",
     "text": [
      "The 1-norm of vector [24  3  2 31] is: 60.0\n",
      "The 2-norm of vector [24  3  2 31] is: 39.37\n",
      "The 8-norm of vector [24  3  2 31] is: 31.47\n",
      "The maxnorm of vector [24  3  2 31] is: 31\n",
      "The 1-norm of vector [27 20 26 21] is: 94.0\n",
      "The 2-norm of vector [27 20 26 21] is: 47.39\n",
      "The 8-norm of vector [27 20 26 21] is: 29.38\n",
      "The maxnorm of vector [27 20 26 21] is: 27\n",
      "The 1-norm of vector [30 21 27  5] is: 83.0\n",
      "The 2-norm of vector [30 21 27  5] is: 45.77\n",
      "The 8-norm of vector [30 21 27  5] is: 31.53\n",
      "The maxnorm of vector [30 21 27  5] is: 30\n",
      "The 1-norm of vector [26 28 25 14] is: 93.0\n",
      "The 2-norm of vector [26 28 25 14] is: 47.76\n",
      "The 8-norm of vector [26 28 25 14] is: 30.46\n",
      "The maxnorm of vector [26 28 25 14] is: 28\n"
     ]
    }
   ],
   "source": [
    "x_1 = np.array([24, 3, 2, 31], dtype='int64')\n",
    "x_2 = np.array([27, 20, 26, 21], dtype='int64')\n",
    "x_3 = np.array([30, 21, 27, 5], dtype='int64')\n",
    "x_4 = np.array([26, 28, 25, 14], dtype='int64')\n",
    "\n",
    "# calculate the p-norm of vector v\n",
    "def norm(v, p):\n",
    "    sum = 0\n",
    "    for c in v:\n",
    "        sum += abs(c)**p\n",
    "    norm = sum**(1/p)\n",
    "    return norm\n",
    "\n",
    "# calculate the maximum norm\n",
    "def maxnorm(v):\n",
    "    return max(abs(v))\n",
    "\n",
    "# vectors\n",
    "x = [x_1, x_2, x_3, x_4]\n",
    "# norms\n",
    "p = [1,2,8,'max']\n",
    "# loop over vectors and norms and print them\n",
    "for i in range(0,len(x)):\n",
    "    for j in range(0,len(p)):\n",
    "        if p[j] == 'max':\n",
    "            print('The maxnorm of vector {} is:'.format(x[i]), maxnorm(x[i]))\n",
    "        else:\n",
    "            print('The {}-norm of vector {} is:'.format(p[j],x[i]), round(norm(x[i],p[j]),2))\n"
   ]
  },
  {
   "cell_type": "markdown",
   "metadata": {},
   "source": [
    "#### (b) Draw the set of points with $\\lVert x\\rVert_{i}$ for $i \\in \\{1,2,8,\\infty\\}$ and $x \\in \\mathbb{R}^{2}$."
   ]
  },
  {
   "cell_type": "code",
   "execution_count": 25,
   "metadata": {
    "scrolled": true
   },
   "outputs": [
    {
     "data": {
      "image/png": "[encoded data removed]",
      "text/plain": [
       "<Figure size 432x288 with 1 Axes>"
      ]
     },
     "metadata": {
      "needs_background": "light"
     },
     "output_type": "display_data"
    }
   ],
   "source": [
    "#TODO\n",
    "\n",
    "from mpl_toolkits.mplot3d import Axes3D\n",
    "\n",
    "p = [1,2,8,'max']\n",
    "\n",
    "fig = plt.figure()\n",
    "ax = fig.add_subplot(111, projection='3d')\n",
    "for i in range(500):\n",
    "    v = np.array([np.random.rand(),np.random.rand()])\n",
    "    #ax.plot(x[0],x[1],norm(x,1),'bo')\n",
    "    ax.scatter(v[0], v[1], norm(v,1), c = 'b', marker = 'o')\n",
    "plt.show()\n"
   ]
  },
  {
   "cell_type": "markdown",
   "metadata": {},
   "source": [
    "**(c)** This question was easy so we didn't invest that much time. It is useful to plot something so we get used to matplotlib."
   ]
  },
  {
   "cell_type": "markdown",
   "metadata": {},
   "source": [
    "### 5. Special Orthogonal Matrices\n",
    "\n",
    "#### (a) Given the matrix \n",
    "<center>$A=\\frac{1}{2}\\left[ \\begin{array}{rr}\n",
    "7 & \\sqrt{3}  \\\\\n",
    "\\sqrt{3} & 5  \\\\\n",
    "\\end{array}\\right]$</center> \n",
    "#### compute $det(A), Tr(A)$ and its eigenvalues."
   ]
  },
  {
   "cell_type": "code",
   "execution_count": 39,
   "metadata": {},
   "outputs": [
    {
     "name": "stdout",
     "output_type": "stream",
     "text": [
      "Matrix A:\n",
      " [[3.5       0.8660254]\n",
      " [0.8660254 2.5      ]]\n",
      "\n",
      "The determinant of matrix A:\n",
      " 8.0\n",
      "\n",
      "The trace of matrix A:\n",
      " 6.0\n",
      "\n",
      "Eigenvalues of matrix A:\n",
      " [4. 2.]\n"
     ]
    }
   ],
   "source": [
    "# calculate the determinant of a 2x2 matrix\n",
    "def determinant(m):\n",
    "    if is_2x2_matrix(m):\n",
    "        return m[0][0] * m[1][1] - m[1][0]* m[0][1]\n",
    "    else:\n",
    "        print('Error! determinant only supports 2x2 matrices!')\n",
    "        return False\n",
    "\n",
    "# calculate the trace of a 2x2 matrix\n",
    "def trace(m):\n",
    "    if is_2x2_matrix(m):\n",
    "        return m[0][0] + m[1][1]\n",
    "    else:\n",
    "        print('Error! trace only supports 2x2 matrices!')\n",
    "        return False\n",
    "\n",
    "A = 1/2 * np.array([[7, np.sqrt(3)], \n",
    "                    [np.sqrt(3), 5]])\n",
    "\n",
    "print('Matrix A:\\n', A)\n",
    "print('\\nThe determinant of matrix A:\\n', determinant(A))\n",
    "print('\\nThe trace of matrix A:\\n', trace(A))\n",
    "# used eigenvalues function from above (exercise 2.a)\n",
    "print('\\nEigenvalues of matrix A:\\n', eigenvalues(A))"
   ]
  },
  {
   "cell_type": "markdown",
   "metadata": {},
   "source": [
    "#### (b) The Matrix <center>$Q(\\alpha)=\\left[ \\begin{array}{rr}\n",
    "\\cos{\\alpha} & -\\sin{\\alpha}  \\\\\n",
    "\\sin{\\alpha} & \\cos{\\alpha}  \\\\\n",
    "\\end{array}\\right]$</center> \n",
    "#### represents a rotation around an axis by the angle $\\alpha$. Compute $A^{\\prime} = Q \\cdot A \\cdot Q^{T} ,$ det( $A^{\\prime}$), Tr( $A^{\\prime}$) and its eigenvalues for $\\alpha = \\frac{\\pi}{12}$."
   ]
  },
  {
   "cell_type": "code",
   "execution_count": 40,
   "metadata": {},
   "outputs": [
    {
     "name": "stdout",
     "output_type": "stream",
     "text": [
      "Matrix A:\n",
      " [[3.5       0.8660254]\n",
      " [0.8660254 2.5      ]]\n",
      "\n",
      "A' with alpha = pi/12:\n",
      " [[3. 1.]\n",
      " [1. 3.]]\n",
      "\n",
      "The determinant of matrix A':\n",
      " 8.000000000000002\n",
      "\n",
      "The trace of matrix A':\n",
      " 6.0\n",
      "\n",
      "Eigenvalues of matrix A':\n",
      " [4. 2.]\n"
     ]
    }
   ],
   "source": [
    "# matrix Q(alpha)\n",
    "def Q(alpha):\n",
    "    return np.array([[math.cos(alpha), -math.sin(alpha)],\n",
    "            [math.sin(alpha), math.cos(alpha)]])\n",
    "\n",
    "# compute matrix A' = Q * A * Q.T \n",
    "def matA_prime(matA, matQ):\n",
    "    return matrixMultiplication(matrixMultiplication(matQ, matA),np.transpose(matQ))\n",
    "\n",
    "A = 1/2 * np.array([[7, np.sqrt(3)], \n",
    "                    [np.sqrt(3), 5]])\n",
    "\n",
    "alpha_1 = math.pi/12\n",
    "\n",
    "print('Matrix A:\\n', A)\n",
    "\n",
    "A_prime = matA_prime(A,Q(alpha_1))\n",
    "print(\"\\nA' with alpha = pi/12:\\n\", A_prime)\n",
    "print(\"\\nThe determinant of matrix A':\\n\", determinant(A_prime))\n",
    "print(\"\\nThe trace of matrix A':\\n\", trace(A_prime))\n",
    "# used eigenvalues function from above (exercise 2.a)\n",
    "print(\"\\nEigenvalues of matrix A':\\n\", eigenvalues(A_prime))\n"
   ]
  },
  {
   "cell_type": "markdown",
   "metadata": {},
   "source": [
    "#### (c) What would $A^{\\prime}$ be for $\\alpha = \\frac{\\pi}{3}$?"
   ]
  },
  {
   "cell_type": "code",
   "execution_count": 42,
   "metadata": {},
   "outputs": [
    {
     "name": "stdout",
     "output_type": "stream",
     "text": [
      "A' with alpha = pi/3:\n",
      " [[2.00000000e+00 2.22044605e-16]\n",
      " [4.44089210e-16 4.00000000e+00]]\n"
     ]
    }
   ],
   "source": [
    "A = 1/2 * np.array([[7, np.sqrt(3)], \n",
    "                    [np.sqrt(3), 5]])\n",
    "alpha_2 = math.pi/3\n",
    "A_prime = matA_prime(A,Q(alpha_2))\n",
    "print(\"A' with alpha = pi/3:\\n\", A_prime)\n",
    "# -> eigenvalues on the diagonal"
   ]
  },
  {
   "cell_type": "markdown",
   "metadata": {},
   "source": [
    "**(d)** This part was easier than the other parts. Probably because we already had all the functions (e.g. 'eigenvalues'). But we didn't learned that much about special orthogonal matrices."
   ]
  }
 ],
 "metadata": {
  "kernelspec": {
   "display_name": "Python 3",
   "language": "python",
   "name": "python3"
  },
  "language_info": {
   "codemirror_mode": {
    "name": "ipython",
    "version": 3
   },
   "file_extension": ".py",
   "mimetype": "text/x-python",
   "name": "python",
   "nbconvert_exporter": "python",
   "pygments_lexer": "ipython3",
   "version": "3.6.4"
  }
 },
 "nbformat": 4,
 "nbformat_minor": 1
}
