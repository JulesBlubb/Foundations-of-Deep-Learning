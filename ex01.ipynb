{
 "cells": [
  {
   "cell_type": "markdown",
   "metadata": {},
   "source": [
    "#### Group Members\n",
    "\n",
    "* Hovekamp, Amadeus\n",
    "* Klaiber, Megan\n",
    "* Weilbach, Juliane"
   ]
  },
  {
   "cell_type": "code",
   "execution_count": 73,
   "metadata": {},
   "outputs": [],
   "source": [
    "import numpy as np\n",
    "import scipy.linalg as la"
   ]
  },
  {
   "cell_type": "markdown",
   "metadata": {},
   "source": [
    "#### help functions"
   ]
  },
  {
   "cell_type": "code",
   "execution_count": 74,
   "metadata": {},
   "outputs": [],
   "source": [
    "# check if matrix is quadratic and a 2x2 matrix\n",
    "def is_2x2_matrix(matrix):\n",
    "    dim = np.shape(matrix)\n",
    "    if dim[0] != dim[1]:\n",
    "        print('Matrix is not quadratic!')\n",
    "        return False\n",
    "    elif dim[0] != 2:\n",
    "        print('Matrix is not a 2x2 matrix!')\n",
    "        return False\n",
    "    else:\n",
    "        return True\n",
    "\n",
    "\n",
    "def matrixMultiplication(matrixA, matrixB):\n",
    "    dimsA = np.shape(matrixA)\n",
    "    dimsB = np.shape(matrixB)\n",
    "    \n",
    "    #print(\"matrixA\\n\", matrixA)\n",
    "    #print(\"dimsA\", dimsA)\n",
    "    #print(\"matrixB\\n\", matrixB)\n",
    "    #print(\"dimsB\", dimsB)\n",
    "    \n",
    "    if(dimsA[1] != dimsB[0]):\n",
    "        print(\"Error. Matrix dimensions do not fit!\")\n",
    "    else:\n",
    "        # init result matrix with zeros of correct shape\n",
    "        matrixC = np.zeros((dimsA[0], dimsB[1]))\n",
    "        \n",
    "        for rowA in range(0, dimsA[0]):\n",
    "            for colB in range(0, dimsB[1]):\n",
    "                for k in range(0, dimsA[1]):\n",
    "                    matrixC[rowA, colB] += matrixA[rowA, k] * matrixB[k, colB]\n",
    "        return matrixC\n",
    "    \n",
    "#A = np.array([[2,1],[1,1],[2,1]])\n",
    "#B = np.array([[2,1,1],[3,2,3]])\n",
    "#C = matrixMultiplication(A , B)\n",
    "#C_correct = np.matmul(A , B)\n",
    "#print(\"C\\n\", C)\n",
    "#print(\"C_correct\\n\", C_correct)"
   ]
  },
  {
   "cell_type": "markdown",
   "metadata": {
    "collapsed": true
   },
   "source": [
    "## Assignment 1"
   ]
  },
  {
   "cell_type": "markdown",
   "metadata": {},
   "source": [
    "### 1. Jupyter Notebooks"
   ]
  },
  {
   "cell_type": "markdown",
   "metadata": {},
   "source": [
    "**(d)** It's useful for people who didn't work with jupyter notebooks yet."
   ]
  },
  {
   "cell_type": "markdown",
   "metadata": {},
   "source": [
    "### 2. Eigenvalue Decomposition\n",
    "Given the matrix $A=\\frac{1}{4}\\left[ \\begin{array}{rr}\n",
    "7 & -\\sqrt{3}  \\\\\n",
    "\\sqrt{3} & 5  \\\\\n",
    "\\end{array}\\right]$.\n",
    "\n",
    "#### (a) Compute the eigenvalue decomposition $A=QΛQ^T$ with $Λ=diag(λ_1,λ_2)$."
   ]
  },
  {
   "cell_type": "code",
   "execution_count": 75,
   "metadata": {},
   "outputs": [
    {
     "name": "stdout",
     "output_type": "stream",
     "text": [
      "Matrix:\n",
      " [[ 1.75      -0.4330127]\n",
      " [-0.4330127  1.25     ]]\n",
      "\n",
      "Diagonal matrix Lambda with eigenvalues:\n",
      " [[2. 0.]\n",
      " [0. 1.]] \n",
      "\n",
      "Matrix Q with eigenvectors as columns:\n",
      " [[ 0.8660254 -0.5      ]\n",
      " [-0.5       -0.8660254]]\n",
      "\n",
      "So A = Q * Lambda * Q.T:\n",
      " [[ 1.75      -0.4330127]\n",
      " [-0.4330127  1.25     ]]\n"
     ]
    }
   ],
   "source": [
    "A = 1/4 * np.array([[7, -np.sqrt(3)], [-np.sqrt(3), 5]])\n",
    "\n",
    "# pq formula\n",
    "def pq_formula(p, q):\n",
    "    p_half = -p/2\n",
    "    sqrt = np.sqrt(p_half**2 - q)\n",
    "    lamda_1 = p_half + sqrt \n",
    "    lamda_2 = p_half - sqrt\n",
    "    return np.array([lamda_1, lamda_2])\n",
    "\n",
    "# compute eigenvalues\n",
    "def eigenvalues(matrix):\n",
    "    if is_2x2_matrix(matrix):\n",
    "        a = matrix[0,0]\n",
    "        b = matrix[0,1]\n",
    "        c = matrix[1,0]\n",
    "        d = matrix[1,1]\n",
    "\n",
    "        p = -(a+d)\n",
    "        q = a*d-b*c\n",
    "\n",
    "        eigenvals = pq_formula(p, q)\n",
    "    \n",
    "        #print('Calculated eigenvalues:\\n', eigenvals)\n",
    "        return eigenvals\n",
    "    else:\n",
    "        print(\"Error! eigenvalues only supports 2x2 matrices!\")\n",
    "\n",
    "# compute eigenvectors\n",
    "def eigenvectors(matrix, eigenvals):\n",
    "    if is_2x2_matrix(matrix):\n",
    "        eigenvec = []\n",
    "        a = matrix[0,0]\n",
    "        b = matrix[0,1]\n",
    "        c = matrix[1,0]\n",
    "        d = matrix[1,1]\n",
    "        if c != 0:\n",
    "            eigenvec.append([eigenvals[0]-d,c])\n",
    "            eigenvec.append([eigenvals[1]-d,c])\n",
    "        elif b != 0:\n",
    "            eigenvec.append([b,eigenvals[0] - a])\n",
    "            eigenvec.append([b,eigenvals[1] - a])\n",
    "        else:\n",
    "            eigenvec.append([1,0])\n",
    "            eigenvec.append([0,1])\n",
    "\n",
    "        # print(\"before scaling:\", eigenvec)\n",
    "        for eigvec in eigenvec:\n",
    "            length = np.sqrt(eigvec[0]**2+eigvec[1]**2)\n",
    "            eigvec[0] /= length\n",
    "            eigvec[1] /= length\n",
    "        # print(\"after scaling:\", eigenvec)\n",
    "        return eigenvec\n",
    "    else:\n",
    "        print(\"Error! eigenvectors only supports 2x2 matrices!\")\n",
    "    \n",
    "# compute eigenvalue decomposition\n",
    "def eigenvalue_decomposition(matrix):\n",
    "    print('Matrix:\\n', matrix)\n",
    "    if is_2x2_matrix(matrix):\n",
    "        # compute eigenvalues\n",
    "        values = eigenvalues(matrix)\n",
    "        # compute eigenvectors\n",
    "        vectors = eigenvectors(matrix, values)\n",
    "        \n",
    "        Lambda = np.diag(values)\n",
    "        Q = np.array(vectors)\n",
    "        \n",
    "        print('\\nDiagonal matrix Lambda with eigenvalues:\\n', Lambda, '\\n\\nMatrix Q with eigenvectors as columns:\\n', Q)\n",
    "        print('\\nSo A = Q * Lambda * Q.T:\\n', matrixMultiplication(matrixMultiplication(Q, Lambda) , np.transpose(Q)))\n",
    "        return Lambda, Q\n",
    "    else:\n",
    "        print(\"Error! eigenvalue_decomposition only supports 2x2 matrices!\")\n",
    "        \n",
    "\n",
    "'''\n",
    "eigenvalues_of_A = eigenvalues(A)\n",
    "print(\"Q:\\n\", Q)\n",
    "print(\"v:\\n\", Q[0])\n",
    "print(\"|v|:\\n\", np.linalg.norm(Q[0]))\n",
    "\n",
    "# compare to np.linalg.eig:\n",
    "eigval, eigvec = np.linalg.eig(A.T)\n",
    "print(\"numpy eigval\", eigval)\n",
    "print(\"numpy eigvec:\", eigvec)\n",
    "'''\n",
    "Lambda, Q = eigenvalue_decomposition(A)\n"
   ]
  },
  {
   "cell_type": "markdown",
   "metadata": {},
   "source": [
    "#### (b) Show that the columns of Q are orthonormal, i.e. the columns are of unit length and orthogonal."
   ]
  },
  {
   "cell_type": "code",
   "execution_count": 76,
   "metadata": {},
   "outputs": [
    {
     "name": "stdout",
     "output_type": "stream",
     "text": [
      "Q:\n",
      " [[ 0.8660254 -0.5      ]\n",
      " [-0.5       -0.8660254]] \n",
      "\n",
      "The columns of the matrix are orthonomal!\n"
     ]
    },
    {
     "data": {
      "text/plain": [
       "True"
      ]
     },
     "execution_count": 76,
     "metadata": {},
     "output_type": "execute_result"
    }
   ],
   "source": [
    "# compute the dot product of two vectors\n",
    "def dot_product(vec1, vec2):\n",
    "    dim_vec1 = np.shape(vec1)\n",
    "    dim_vec2 = np.shape(vec2)\n",
    "    # check if vectors have same dimension\n",
    "    if dim_vec1 != dim_vec2:\n",
    "        print('Input vectors have not the same dimension!')\n",
    "    else:\n",
    "        scalar = 0\n",
    "        for i in range(0, dim_vec1[0]):\n",
    "            scalar += vec1[i] * vec2[i]\n",
    "        return round(scalar,2)\n",
    "    \n",
    "# compute the length of a vector\n",
    "def vec_length(col):\n",
    "    dim = np.shape(col)\n",
    "    # check if input is a column\n",
    "    if len(dim) != 1:\n",
    "        print('Input is not a column!')\n",
    "        return False\n",
    "    else:\n",
    "        x = 0\n",
    "        for i in range(0,dim[0]):\n",
    "            x += col[i]**2\n",
    "        return np.sqrt(x)\n",
    "\n",
    "# check if columns of a 2x2 matrix are orthonormal\n",
    "def orthonormal_columns(matrix):\n",
    "    # dimension of input matrix\n",
    "    dim = np.shape(matrix)\n",
    "    \n",
    "    if is_2x2_matrix(matrix):\n",
    "        # check if columns are of unit length\n",
    "        for j in range(0,dim[1]):\n",
    "            if vec_length(matrix[:,j]) != 1:\n",
    "                print('Columns of the matrix are not of unit length!')\n",
    "                return False\n",
    "\n",
    "        # check if columns are orthognal\n",
    "        if dot_product(matrix[:,0], matrix[:,1]) == 0:\n",
    "            print('The columns of the matrix are orthonomal!')\n",
    "            return True\n",
    "        else:\n",
    "            print('The columns of the matrix are not orthonomal!')\n",
    "            return False\n",
    "    else:\n",
    "        print(\"Error! orthornomal_columns only supports 2x2 matrices!\")\n",
    "        \n",
    "print('Q:\\n',Q, '\\n')\n",
    "orthonormal_columns(Q)"
   ]
  },
  {
   "cell_type": "markdown",
   "metadata": {},
   "source": [
    "#### (c) Show that the matrix $QΛ^{-1}Q^T$ is the inverse of A."
   ]
  },
  {
   "cell_type": "code",
   "execution_count": 77,
   "metadata": {},
   "outputs": [
    {
     "name": "stdout",
     "output_type": "stream",
     "text": [
      "Q:\n",
      " [[ 0.8660254 -0.5      ]\n",
      " [-0.5       -0.8660254]] \n",
      "\n",
      "Lambda:\n",
      " [[2. 0.]\n",
      " [0. 1.]] \n",
      "\n",
      "Inverse of Lambda:\n",
      " [[ 0.5 -0. ]\n",
      " [-0.   1. ]] \n",
      "\n",
      "A:\n",
      " [[ 1.75      -0.4330127]\n",
      " [-0.4330127  1.25     ]] \n",
      "\n",
      "Inverse of A:\n",
      " [[0.625      0.21650635]\n",
      " [0.21650635 0.875     ]] \n",
      "\n",
      "\n",
      "So inv(A) = Q * inv(Lambda) * Q.T:\n",
      " [[0.625      0.21650635]\n",
      " [0.21650635 0.875     ]]\n"
     ]
    }
   ],
   "source": [
    "# calculate inverse for a 2x2 matrix\n",
    "def inverse(matrix):\n",
    "    if is_2x2_matrix(matrix):\n",
    "        a = matrix[0,0]\n",
    "        b = matrix[0,1]\n",
    "        c = matrix[1,0]\n",
    "        d = matrix[1,1]\n",
    "        \n",
    "        inv = 1 /(a*d-b*c) * np.array([[d, -b], [-c, a]])\n",
    "    \n",
    "        return inv\n",
    "    else:\n",
    "        print(\"Error! inverse only supports 2x2 matrices!\")\n",
    "\n",
    "print('Q:\\n',Q, '\\n')\n",
    "print('Lambda:\\n',Lambda, '\\n')\n",
    "print('Inverse of Lambda:\\n', inverse(Lambda), '\\n')\n",
    "\n",
    "print('A:\\n', A, '\\n')\n",
    "# inverse of A\n",
    "print('Inverse of A:\\n', inverse(A), '\\n')\n",
    "# result with matrix multiplication\n",
    "print('\\nSo inv(A) = Q * inv(Lambda) * Q.T:\\n', matrixMultiplication( matrixMultiplication(Q, inverse(Lambda)),np.transpose(Q)))"
   ]
  },
  {
   "cell_type": "markdown",
   "metadata": {},
   "source": [
    "**(d)** We invested approximately 4 hours for this exercise. It was time consuming to code all the simple things on our own."
   ]
  },
  {
   "cell_type": "markdown",
   "metadata": {},
   "source": [
    "### 3. Matrix Inversion\n",
    "Given the matrix $A=\\left[ \\begin{array}{rr}\n",
    "3 & 4  \\\\\n",
    "6 & 13  \\\\\n",
    "\\end{array}\\right]$.\n",
    "\n",
    "#### (a) Compute $LU$ decomposition of it, i.e. $A = L * U$, where *L* is a lowertriangular matrix and *U* is an uppertriangular matrix. Use this decomposition to solve $A*x = b$ with $b = (1, 2)^T$ via forward and backward substitution."
   ]
  },
  {
   "cell_type": "code",
   "execution_count": 103,
   "metadata": {},
   "outputs": [
    {
     "name": "stdout",
     "output_type": "stream",
     "text": [
      "(array([[0., 1.],\n",
      "       [1., 0.]]), array([[1. , 0. ],\n",
      "       [0.5, 1. ]]), array([[ 6. , 13. ],\n",
      "       [ 0. , -2.5]]))\n",
      "[[ 3  4]\n",
      " [ 6 13]]\n"
     ]
    }
   ],
   "source": [
    "def lu_decomposition(matrix):\n",
    "    dim = np.shape(matrix)\n",
    "    #L = matrix.copy()\n",
    "    #U = np.ones((dim[0], dim[1]))\n",
    "    for i in range(1,dim[0]-1): \n",
    "        print('i: ', i)\n",
    "        for k in range(i+1, dim[0]):\n",
    "            print('k: ', k)\n",
    "\n",
    "            # calculate L\n",
    "            matrix[k,i] = matrix[k,i] / matrix[i,i]\n",
    "              \n",
    "            for j in range(i+1, dim[0]):\n",
    "                # calculate U\n",
    "                matrix[k,j] = matrix[k,j] - matrix[k,i] * matrix[i,j]\n",
    "    \n",
    "    return matrix\n",
    "\n",
    "\n",
    "\n",
    "A = np.array([[3, 4], [6, 13]])\n",
    "\n",
    "\n",
    "print(sc.linalg.lu(A))\n",
    "\n",
    "print(lu_decomposition(A))\n",
    "\n",
    "\n",
    "#L, U = lu_decomposition(A)\n",
    "#print(matrixMultiplication(L,U))\n",
    "\n",
    "\n",
    "b = np.array([1,2])\n"
   ]
  },
  {
   "cell_type": "markdown",
   "metadata": {},
   "source": [
    "#### (b) Use Gauss elimination to explicitly calculate the inverse of $A$ and show that it yields the same solution $x = A^{-1}* b$ from part (a)."
   ]
  },
  {
   "cell_type": "code",
   "execution_count": null,
   "metadata": {},
   "outputs": [],
   "source": []
  },
  {
   "cell_type": "markdown",
   "metadata": {},
   "source": [
    "#### (c) TODO feedback"
   ]
  },
  {
   "cell_type": "markdown",
   "metadata": {},
   "source": [
    "### 4. Vector Norms"
   ]
  },
  {
   "cell_type": "code",
   "execution_count": null,
   "metadata": {},
   "outputs": [],
   "source": [
    "x_1 = [24, 3, 2, 31]\n",
    "x_2 = [27, 20, 26, 21]\n",
    "x_3 = [30, 21, 27, 5]\n",
    "x_4 = [26, 28, 25, 14]\n",
    "\n",
    "\n",
    "\"\"\"\"\n",
    "def norm1(v):\n",
    "        sum = 0\n",
    "        for c in v:\n",
    "            sum = sum + abs(c)\n",
    "            norm1 = sum\n",
    "        return norm1\n",
    "\n",
    "print(norm1(x_1))\n",
    "\n",
    "def norm2(v):\n",
    "    sum = 0\n",
    "    for c in v:\n",
    "        sum = sum + np.square(abs(c))\n",
    "        norm2 = np.sqrt(sum)\n",
    "    return norm2\n",
    "\n",
    "print(norm2(x_1))\n",
    "\n",
    "\"\"\"\n",
    "\n",
    "# we could substitute 8 with p and call with 1 for norm1 or 2 for norm2\n",
    "def norm(v, p):\n",
    "    sum = 0\n",
    "    for c in v:\n",
    "        sum = sum + abs(c)**p\n",
    "        norm = sum**(1/p)\n",
    "    return norm\n",
    "\n",
    "print(norm(x_1, 1))\n",
    "\n",
    "# Maximumsnorm, Betrag der betragsgrößten Komponente\n",
    "def maxnorm(v):\n",
    "    sum = 0\n",
    "    for c in v:\n",
    "        maxnorm = np.max(abs(c))\n",
    "    return maxnorm\n",
    "\n",
    "print(maxnorm(x_1))"
   ]
  },
  {
   "cell_type": "code",
   "execution_count": null,
   "metadata": {},
   "outputs": [],
   "source": [
    "# A in C umbenannt\n",
    "C = [[3.5, np.sqrt(3)/2],\n",
    "    [np.sqrt(3)/2, 2.5]]\n",
    "\n",
    "def determinant(m):\n",
    "    return m[0][0] * m[1][1] - m[0][1]* m[1][0]\n",
    "\n",
    "\n",
    "def trace(m):\n",
    "    return m[0][0] + m[1][1]\n",
    "\n",
    "print(determinant(C))\n",
    "print(trace(C))\n",
    "\n",
    "# eigvalues = np.linalg.eig(C)?\n",
    "\n"
   ]
  },
  {
   "cell_type": "code",
   "execution_count": null,
   "metadata": {},
   "outputs": [],
   "source": [
    "import math\n",
    "\n",
    "def Q(a):\n",
    "    return [[math.cos(a), -math.sin(a)],\n",
    "            [math.sin(a), math.cos(a)]]\n",
    "\n",
    "def A_prime(a):\n",
    "    return np.dot((np.dot(Q(a),(C))),\n",
    "                  (np.transpose(Q(a))))\n",
    "\n",
    "a_1 = math.pi/12\n",
    "print(A_prime(a_1))\n",
    "print(trace(A_prime(a_1)))\n",
    "print(determinant(A_prime(a_1)))\n",
    "print(\"eigenvalues(A_prime(a_1):\", eigenvalues(A_prime(a_1)))\n",
    "# TODO: Eigenvalues for A_prime\n",
    "\n",
    "\n",
    "# (c) What would A_prime be for α = π / 3?\n",
    "    \n",
    "\n",
    "a_2 = math.pi/3\n",
    "print(A_prime(a_2))"
   ]
  },
  {
   "cell_type": "code",
   "execution_count": null,
   "metadata": {},
   "outputs": [],
   "source": []
  }
 ],
 "metadata": {
  "kernelspec": {
   "display_name": "Python 3",
   "language": "python",
   "name": "python3"
  },
  "language_info": {
   "codemirror_mode": {
    "name": "ipython",
    "version": 3
   },
   "file_extension": ".py",
   "mimetype": "text/x-python",
   "name": "python",
   "nbconvert_exporter": "python",
   "pygments_lexer": "ipython3",
   "version": "3.6.4"
  }
 },
 "nbformat": 4,
 "nbformat_minor": 1
}
