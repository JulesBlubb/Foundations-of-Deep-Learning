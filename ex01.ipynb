{
 "cells": [
  {
   "cell_type": "markdown",
   "metadata": {
    "collapsed": true
   },
   "source": [
    "# Assignment 1"
   ]
  },
  {
   "cell_type": "markdown",
   "metadata": {},
   "source": [
    "## 2. Eigenvalue Decomposition"
   ]
  },
  {
   "cell_type": "markdown",
   "metadata": {},
   "source": [
    "### (a) Compute the eigenvalue decomposition A = QΛQ^T with Λ = diag(λ_1 , λ_2)."
   ]
  },
  {
   "cell_type": "code",
   "execution_count": null,
   "metadata": {},
   "outputs": [],
   "source": [
    "import numpy as np\n",
    "\n",
    "A = 1/4* np.array([[7, -np.sqrt(3)],\n",
    "                   [-np.sqrt(3), 5]])\n",
    "\n",
    "# calculate eigenvalues & eigenvectors\n",
    "# eigenvalues: [2, 1]\n",
    "# values, vectors = np.linalg.eig(A)\n",
    "\n",
    "# find eigenvalues\n",
    "def pq_formula(p, q):\n",
    "    p_half = -p/2\n",
    "    sqrt = np.sqrt(p_half**2 - q)\n",
    "    lamda_1 = p_half + sqrt \n",
    "    lamda_2 = p_half - sqrt\n",
    "    return np.array([lamda_1, lamda_2])\n",
    "\n",
    "def eigenvalues(matrix):\n",
    "    # check if 2x2\n",
    "    a = matrix[0,0]\n",
    "    b = matrix[0,1]\n",
    "    c = matrix[1,0]\n",
    "    d = matrix[1,1]\n",
    "    \n",
    "    p = -(a+d)\n",
    "    q = a*d-b*c\n",
    "    \n",
    "    eigenvals = pq_formula(p, q)\n",
    "    \n",
    "    return eigenvals\n",
    "\n",
    "eigenvalues_of_A = eigenvalues(A)\n",
    "print(\"eigenvalues(A):\", eigenvalues_of_A)"
   ]
  },
  {
   "cell_type": "code",
   "execution_count": 24,
   "metadata": {},
   "outputs": [
    {
     "name": "stdout",
     "output_type": "stream",
     "text": [
      "eigenvalues(A): [ 2.  1.]\n",
      "[[ 0.  0.]\n",
      " [ 0.  0.]]\n",
      "dot_product: 0\n",
      "B:  [[ 1.75      -0.4330127]\n",
      " [-0.4330127  1.25     ]]\n"
     ]
    }
   ],
   "source": [
    "find eigenvectors\n",
    "def eigenvectors(matrix, eigenvals):\n",
    "    for eigenval in eigenvals:\n",
    "        B = matrix\n",
    "        B[0,0] -= eigenval\n",
    "        B[1,1] -= eigenval\n",
    "        b_22_prime = B[1,1]*B[0,0] - B[0,1] * B[1,0]\n",
    "        \n",
    "        if b_22_prime < 0.00001:\n",
    "            x_2 = 1\n",
    "        else:\n",
    "            x_2 = 0\n",
    "        x_1 = \n",
    "\n",
    "\n",
    "Q = vectors\n",
    "\n",
    "# Diagonalmatrix\n",
    "V = np.zeros((2,2), int)\n",
    "np.fill_diagonal(V,values)\n",
    "\n",
    "# recreate A\n",
    "\n",
    "def dot_product(matrix_A, matrix_B):\n",
    "    matrix_temp = np.zeros((2,2))\n",
    "    print(matrix_temp)\n",
    "    \n",
    "    return 0\n",
    "\n",
    "print(\"dot_product:\",dot_product(1,1))\n",
    "\n",
    "\n",
    "B = np.dot(np.dot(Q,V), np.transpose(Q))\n",
    "print(\"B: \", B)"
   ]
  },
  {
   "cell_type": "code",
   "execution_count": 39,
   "metadata": {},
   "outputs": [
    {
     "ename": "TypeError",
     "evalue": "polynomial() missing 1 required positional argument: 'x'",
     "output_type": "error",
     "traceback": [
      "\u001b[0;31m---------------------------------------------------------------------------\u001b[0m",
      "\u001b[0;31mTypeError\u001b[0m                                 Traceback (most recent call last)",
      "\u001b[0;32m<ipython-input-39-c1a2ea8f0286>\u001b[0m in \u001b[0;36m<module>\u001b[0;34m()\u001b[0m\n\u001b[1;32m     27\u001b[0m \u001b[0mx\u001b[0m \u001b[0;34m=\u001b[0m \u001b[0;36m2\u001b[0m\u001b[0;34m\u001b[0m\u001b[0m\n\u001b[1;32m     28\u001b[0m \u001b[0;34m\u001b[0m\u001b[0m\n\u001b[0;32m---> 29\u001b[0;31m \u001b[0mf\u001b[0m \u001b[0;34m=\u001b[0m \u001b[0mpolynomial\u001b[0m\u001b[0;34m(\u001b[0m\u001b[0mf_coeff\u001b[0m\u001b[0;34m,\u001b[0m\u001b[0;34m)\u001b[0m\u001b[0;34m\u001b[0m\u001b[0m\n\u001b[0m\u001b[1;32m     30\u001b[0m \u001b[0mf_1\u001b[0m \u001b[0;34m=\u001b[0m \u001b[0mf\u001b[0m\u001b[0;34m(\u001b[0m\u001b[0mx\u001b[0m\u001b[0;34m)\u001b[0m\u001b[0;34m\u001b[0m\u001b[0m\n\u001b[1;32m     31\u001b[0m \u001b[0;34m\u001b[0m\u001b[0m\n",
      "\u001b[0;31mTypeError\u001b[0m: polynomial() missing 1 required positional argument: 'x'"
     ]
    }
   ],
   "source": [
    "%matplotlib inline\n",
    "\n",
    "import matplotlib.pyplot as plt\n",
    "\n",
    "def dx(f, x):\n",
    "    return abs(0-f(x))\n",
    " \n",
    "def newtons_method(f, df, x0, e):\n",
    "    delta = dx(f, x0)\n",
    "    while delta > e:\n",
    "        x0 = x0 - f(x0)/df(x0)\n",
    "        delta = dx(f, x0)\n",
    "    print('Root is at: ', x0)\n",
    "    print('f(x) at root is: ', f(x0))\n",
    "\n",
    "\n",
    "def polynomial(coeffs, x):    \n",
    "    value = 0\n",
    "    x_exp = 1\n",
    "    for coeff in coeffs:\n",
    "        value += coeff * x_exp\n",
    "        x_exp *= x\n",
    "    return value\n",
    "        \n",
    "f_coeff =  [1, 2]\n",
    "\n",
    "x = 2\n",
    "\n",
    "f = polynomial(f_coeff)\n",
    "f_1 = f(x)\n",
    "\n",
    "plt.plot(f_1)\n",
    "plt.show()\n",
    "\n",
    "\n",
    "print(\"f_1: \", f_1)"
   ]
  },
  {
   "cell_type": "markdown",
   "metadata": {},
   "source": [
    "### (b) Show that the columns of Q are orthonormal, i.e. the columns are of unit length and orthogonal."
   ]
  },
  {
   "cell_type": "code",
   "execution_count": 4,
   "metadata": {},
   "outputs": [
    {
     "name": "stdout",
     "output_type": "stream",
     "text": [
      "[[1. 0.]\n",
      " [0. 1.]]\n"
     ]
    }
   ],
   "source": [
    "# if Q.T * Q = I then Q is orthonormal \n",
    "# (normalized Eigenvectors)\n",
    "print(np.transpose(Q).dot(Q))"
   ]
  },
  {
   "cell_type": "markdown",
   "metadata": {},
   "source": [
    "## c) Show that the matrix $QΛ^{-1}Q^T$ is the inverse of A "
   ]
  },
  {
   "cell_type": "code",
   "execution_count": 5,
   "metadata": {},
   "outputs": [
    {
     "name": "stdout",
     "output_type": "stream",
     "text": [
      "[[0.625      0.21650635]\n",
      " [0.21650635 0.875     ]]\n",
      "[[0.625      0.21650635]\n",
      " [0.21650635 0.875     ]]\n"
     ]
    }
   ],
   "source": [
    "# Q * V^-1 * Q.T = A^-1\n",
    "print((Q.dot(np.linalg.inv(V))).dot(np.transpose(Q)))\n",
    "print(np.linalg.inv(A))"
   ]
  },
  {
   "cell_type": "markdown",
   "metadata": {},
   "source": [
    "## 4. Vector Norms"
   ]
  },
  {
   "cell_type": "code",
   "execution_count": 13,
   "metadata": {},
   "outputs": [
    {
     "name": "stdout",
     "output_type": "stream",
     "text": [
      "60.0\n",
      "31\n"
     ]
    }
   ],
   "source": [
    "x_1 = [24, 3, 2, 31]\n",
    "x_2 = [27, 20, 26, 21]\n",
    "x_3 = [30, 21, 27, 5]\n",
    "x_4 = [26, 28, 25, 14]\n",
    "\n",
    "\n",
    "\"\"\"\"\n",
    "def norm1(v):\n",
    "        sum = 0\n",
    "        for c in v:\n",
    "            sum = sum + abs(c)\n",
    "            norm1 = sum\n",
    "        return norm1\n",
    "\n",
    "print(norm1(x_1))\n",
    "\n",
    "def norm2(v):\n",
    "    sum = 0\n",
    "    for c in v:\n",
    "        sum = sum + np.square(abs(c))\n",
    "        norm2 = np.sqrt(sum)\n",
    "    return norm2\n",
    "\n",
    "print(norm2(x_1))\n",
    "\n",
    "\"\"\"\n",
    "\n",
    "# we could substitute 8 with p and call with 1 for norm1 or 2 for norm2\n",
    "def norm(v, p):\n",
    "    sum = 0\n",
    "    for c in v:\n",
    "        sum = sum + abs(c)**p\n",
    "        norm = sum**(1/p)\n",
    "    return norm\n",
    "\n",
    "print(norm(x_1, 1))\n",
    "\n",
    "# Maximumsnorm, Betrag der betragsgrößten Komponente\n",
    "def maxnorm(v):\n",
    "    sum = 0\n",
    "    for c in v:\n",
    "        maxnorm = np.max(abs(c))\n",
    "    return maxnorm\n",
    "\n",
    "print(maxnorm(x_1))"
   ]
  },
  {
   "cell_type": "code",
   "execution_count": 14,
   "metadata": {},
   "outputs": [
    {
     "name": "stdout",
     "output_type": "stream",
     "text": [
      "8.0\n",
      "6.0\n"
     ]
    }
   ],
   "source": [
    "# A in C umbenannt\n",
    "C = [[3.5, np.sqrt(3)/2],\n",
    "    [np.sqrt(3)/2, 2.5]]\n",
    "\n",
    "def determinant(m):\n",
    "    return m[0][0] * m[1][1] - m[0][1]* m[1][0]\n",
    "\n",
    "\n",
    "def trace(m):\n",
    "    return m[0][0] + m[1][1]\n",
    "\n",
    "print(determinant(C))\n",
    "print(trace(C))\n",
    "\n",
    "# eigvalues = np.linalg.eig(C)?\n",
    "\n"
   ]
  },
  {
   "cell_type": "code",
   "execution_count": 18,
   "metadata": {},
   "outputs": [
    {
     "name": "stdout",
     "output_type": "stream",
     "text": [
      "[[ 3.  1.]\n",
      " [ 1.  3.]]\n",
      "6.0\n",
      "8.0\n",
      "eigenvalues(A_prime(a_1): [ 4.  2.]\n",
      "[[  2.00000000e+00   2.22044605e-16]\n",
      " [  4.44089210e-16   4.00000000e+00]]\n"
     ]
    }
   ],
   "source": [
    "import math\n",
    "\n",
    "def Q(a):\n",
    "    return [[math.cos(a), -math.sin(a)],\n",
    "            [math.sin(a), math.cos(a)]]\n",
    "\n",
    "def A_prime(a):\n",
    "    return np.dot((np.dot(Q(a),(C))),\n",
    "                  (np.transpose(Q(a))))\n",
    "\n",
    "a_1 = math.pi/12\n",
    "print(A_prime(a_1))\n",
    "print(trace(A_prime(a_1)))\n",
    "print(determinant(A_prime(a_1)))\n",
    "print(\"eigenvalues(A_prime(a_1):\", eigenvalues(A_prime(a_1)))\n",
    "# TODO: Eigenvalues for A_prime\n",
    "\n",
    "\n",
    "# (c) What would A_prime be for α = π / 3?\n",
    "    \n",
    "\n",
    "a_2 = math.pi/3\n",
    "print(A_prime(a_2))"
   ]
  },
  {
   "cell_type": "code",
   "execution_count": null,
   "metadata": {},
   "outputs": [],
   "source": []
  }
 ],
 "metadata": {
  "kernelspec": {
   "display_name": "Python 3",
   "language": "python",
   "name": "python3"
  },
  "language_info": {
   "codemirror_mode": {
    "name": "ipython",
    "version": 3
   },
   "file_extension": ".py",
   "mimetype": "text/x-python",
   "name": "python",
   "nbconvert_exporter": "python",
   "pygments_lexer": "ipython3",
   "version": "3.6.5"
  }
 },
 "nbformat": 4,
 "nbformat_minor": 1
}
