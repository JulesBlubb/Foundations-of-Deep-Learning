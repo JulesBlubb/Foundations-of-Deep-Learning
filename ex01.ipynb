{
 "cells": [
  {
   "cell_type": "markdown",
   "metadata": {
    "collapsed": true
   },
   "source": [
    "Assignment 1"
   ]
  },
  {
   "cell_type": "heading",
   "metadata": {},
   "level": 3,
   "source": [
    "2. Eigenvalue Decomposition"
   ]
  },
  {
   "cell_type": "heading",
   "metadata": {},
   "level": 3,
   "source": [
    "(a) Compute the eigenvalue decomposition A = QΛQ^T with Λ = diag(λ_1 , λ_2)."
   ]
  },
  {
   "cell_type": "code",
   "execution_count": null,
   "metadata": {},
   "outputs": [],
   "source": [
    "import numpy as np\n",
    "\n",
    "A = [[1.75, -(np.sqrt(3)/4)],\n",
    "     [-(np.sqrt(3)/4), 1.25]]\n",
    "\n",
    "# calculate eigenvalues & eigenvectors\n",
    "# eigenvalues: [2, 1]\n",
    "values, vectors = np.linalg.eig(A)\n",
    "\n",
    "Q = vectors\n",
    "\n",
    "# Diagonalmatrix\n",
    "V = np.zeros((2,2), int)\n",
    "np.fill_diagonal(V,values)\n",
    "\n",
    "# recreate A\n",
    "B = np.dot(np.dot(Q,V), np.transpose(Q))\n",
    "print(B)"
   ]
  },
  {
   "cell_type": "heading",
   "metadata": {},
   "level": 3,
   "source": [
    "(b) Show that the columns of Q are orthonormal, i.e. the columns are of unit length and orthogonal."
   ]
  },
  {
   "cell_type": "code",
   "execution_count": 4,
   "metadata": {},
   "outputs": [
    {
     "name": "stdout",
     "output_type": "stream",
     "text": [
      "[[1. 0.]\n [0. 1.]]\n"
     ]
    }
   ],
   "source": [
    "# if Q.T * Q = I then Q is orthonormal \n",
    "# (normalized Eigenvectors)\n",
    "print(np.transpose(Q).dot(Q))"
   ]
  },
  {
   "cell_type": "heading",
   "metadata": {},
   "level": 3,
   "source": [
    "c) Show that the matrix QΛ^(-1)Q^T is the inverse of A "
   ]
  },
  {
   "cell_type": "code",
   "execution_count": 5,
   "metadata": {},
   "outputs": [
    {
     "name": "stdout",
     "output_type": "stream",
     "text": [
      "[[0.625      0.21650635]\n [0.21650635 0.875     ]]\n[[0.625      0.21650635]\n [0.21650635 0.875     ]]\n"
     ]
    }
   ],
   "source": [
    "# Q * V^-1 * Q.T = A^-1\n",
    "print((Q.dot(np.linalg.inv(V))).dot(np.transpose(Q)))\n",
    "print(np.linalg.inv(A))"
   ]
  },
  {
   "cell_type": "heading",
   "metadata": {},
   "level": 4,
   "source": [
    "4. Vector Norms"
   ]
  },
  {
   "cell_type": "heading",
   "metadata": {},
   "level": 4,
   "source": [
    "(a) Compute the ||·||_1 , ||·||_2 , ||·||_8 and ||·||_∞ norms of the following vectors:"
   ]
  },
  {
   "cell_type": "code",
   "execution_count": 6,
   "metadata": {},
   "outputs": [
    {
     "name": "stdout",
     "output_type": "stream",
     "text": [
      "60.0\n31\n"
     ]
    }
   ],
   "source": [
    "x_1 = [24, 3, 2, 31]\n",
    "x_2 = [27, 20, 26, 21]\n",
    "x_3 = [30, 21, 27, 5]\n",
    "x_4 = [26, 28, 25, 14]\n",
    "\n",
    "\n",
    "\"\"\"\"\n",
    "def norm1(v):\n",
    "        sum = 0\n",
    "        for c in v:\n",
    "            sum = sum + abs(c)\n",
    "            norm1 = sum\n",
    "        return norm1\n",
    "\n",
    "print(norm1(x_1))\n",
    "\n",
    "def norm2(v):\n",
    "    sum = 0\n",
    "    for c in v:\n",
    "        sum = sum + np.square(abs(c))\n",
    "        norm2 = np.sqrt(sum)\n",
    "    return norm2\n",
    "\n",
    "print(norm2(x_1))\n",
    "\n",
    "\"\"\"\n",
    "\n",
    "# we could substitute 8 with p and call with 1 for norm1 or 2 for norm2\n",
    "def norm(v, p):\n",
    "    sum = 0\n",
    "    for c in v:\n",
    "        sum = sum + abs(c)**p\n",
    "        norm = sum**(1/p)\n",
    "    return norm\n",
    "\n",
    "print(norm(x_1, 1))\n",
    "\n",
    "# Maximumsnorm, Betrag der betragsgrößten Komponente\n",
    "def maxnorm(v):\n",
    "    sum = 0\n",
    "    for c in v:\n",
    "        maxnorm = np.max(abs(c))\n",
    "    return maxnorm\n",
    "\n",
    "print(maxnorm(x_1))"
   ]
  },
  {
   "cell_type": "heading",
   "metadata": {},
   "level": 3,
   "source": [
    "b) TODO: Draw set of points ||x||_i = 1 for i{1,2,8,infinite} and x ∈ R²"
   ]
  },
  {
   "cell_type": "heading",
   "metadata": {},
   "level": 1,
   "source": [
    "5. Special Orthorgonal Matrices"
   ]
  },
  {
   "cell_type": "heading",
   "metadata": {},
   "level": 1,
   "source": [
    "(a) Compute Determinante, Trace and eigenvalues"
   ]
  },
  {
   "cell_type": "code",
   "execution_count": 8,
   "metadata": {},
   "outputs": [
    {
     "name": "stdout",
     "output_type": "stream",
     "text": [
      "8.0\n6.0\n"
     ]
    }
   ],
   "source": [
    "# A in C umbenannt\n",
    "C = [[3.5, np.sqrt(3)/2],\n",
    "    [np.sqrt(3)/2, 2.5]]\n",
    "\n",
    "def determinant(m):\n",
    "    return m[0][0] * m[1][1] - m[0][1]* m[1][0]\n",
    "\n",
    "\n",
    "def trace(m):\n",
    "    return m[0][0] + m[1][1]\n",
    "\n",
    "print(determinant(C))\n",
    "print(trace(C))\n",
    "\n",
    "# TODO: eigvalues = np.linalg.eig(C)?\n",
    "\n"
   ]
  },
  {
   "cell_type": "heading",
   "metadata": {},
   "level": 2,
   "source": [
    "(b) Compute A_prime = Q · A · Q^T , det(A_prime), Tr(A_prime) and its eigenvalues for α = π / 12 ."
   ]
  },
  {
   "cell_type": "code",
   "execution_count": 11,
   "metadata": {},
   "outputs": [
    {
     "name": "stdout",
     "output_type": "stream",
     "text": [
      "[[3. 1.]\n [1. 3.]]\n6.0\n8.000000000000002\n[[2.00000000e+00 2.22044605e-16]\n [4.44089210e-16 4.00000000e+00]]\n"
     ]
    }
   ],
   "source": [
    "def Q(a):\n",
    "    return [[m.cos(a), -m.sin(a)],\n",
    "            [m.sin(a), m.cos(a)]]\n",
    "\n",
    "def A_prime(a):\n",
    "    return np.dot((np.dot(Q(a),(C))),\n",
    "                  (np.transpose(Q(a))))\n",
    "\n",
    "a_1 = m.pi/12\n",
    "print(A_prime(a_1))\n",
    "print(trace(A_prime(a_1)))\n",
    "print(determinant(A_prime(a_1)))\n",
    "# TODO: Eigenvalues for A_prime\n",
    "\n",
    "\n",
    "# (c) What would A_prime be for α = π / 3?\n",
    "    \n",
    "import math as m\n",
    "a_2 = m.pi/3\n",
    "print(A_prime(a_2))"
   ]
  }
 ],
 "metadata": {
  "kernelspec": {
   "display_name": "Python 2",
   "language": "python",
   "name": "python2"
  },
  "language_info": {
   "codemirror_mode": {
    "name": "ipython",
    "version": 2
   },
   "file_extension": ".py",
   "mimetype": "text/x-python",
   "name": "python",
   "nbconvert_exporter": "python",
   "pygments_lexer": "ipython2",
   "version": "2.7.6"
  }
 },
 "nbformat": 4,
 "nbformat_minor": 0
}
