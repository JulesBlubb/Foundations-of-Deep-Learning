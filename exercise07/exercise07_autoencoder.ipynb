{
 "cells": [
  {
   "cell_type": "markdown",
   "metadata": {},
   "source": [
    "# Seventh Exercise (Chapter 3 & Chapter 14)\n",
    "\n",
    "In the first part we will recap basics of probability theory. \n",
    "\n",
    "In the second part, we're going to implement an autoencoder and explore the learned latent space."
   ]
  },
  {
   "cell_type": "markdown",
   "metadata": {},
   "source": [
    "## 7.1 Probability\n",
    "\n",
    "Solve the first two exercises mathematically. Answer using markdown and latex in this notebook. Please provide intermediate steps and explanations. \n",
    "\n",
    "### 7.1.1 Bertrand's Box Paradox\n",
    "\n",
    "Consider a box containing the following 3 cards\n",
    "\n",
    "- one with two black sides\n",
    "- one with two white sides\n",
    "- one with a black and a white side\n",
    "\n",
    "From the three cards, one is drawn at random and put on the table. You can only see the side facing up.\n",
    "\n",
    "**Questions:** \n",
    "\n",
    "a) What are the probabilities that the card on the table shows a black side? What are the probabilities it shows a white side?   \n",
    "b) If we draw a card and it shows black, compute the probability that the other side of the card is also black.  \n",
    "c) Find the the probability that the other side of the card is black if the card shows a white side."
   ]
  },
  {
   "cell_type": "markdown",
   "metadata": {},
   "source": [
    "**Answers:**\n",
    "\n",
    "**a)** \n",
    "We have six sides, 3 white and 3 black. \n",
    "\\begin{equation*}\n",
    "P(x = black) = \\frac{3}{6} = \\frac{1}{2}\n",
    "\\end{equation*}\n",
    "\n",
    "\\begin{equation*}\n",
    "P(x = white) = \\frac{3}{6} = \\frac{1}{2}\n",
    "\\end{equation*}"
   ]
  },
  {
   "cell_type": "markdown",
   "metadata": {},
   "source": [
    "**b)**\n",
    "\n",
    "From seeing the black side, we know that the card is either the black-black card or the black-white card.\n",
    "There are two possible ways to place the black-black card on the table so that it shows a black side and one way to place the black-white ward on the table so that it shows the black side on top. In two of those three cases there is a black side on the other side (when the card is in fact the black-black card) and one case of a white side on the other side (when the card is in fact the black-white card).\n",
    "\n",
    "BB is the black-black card and BW the black-white card. \n",
    "x is the visible color of the card on the table.\n",
    "y is the color of the other, not visible side of the card on the table.\n",
    "\n",
    "$ P(BB | x = black) = \\frac{2}{3} $\n",
    "\n",
    "$ P(BW | x = black) = \\frac{1}{3} $\n",
    "\n",
    "$ P(y = black | BB) = 1 $\n",
    "\n",
    "$ P(y = black | BW) = 0 $\n",
    "\n",
    "$ P(y = black | x = black) = P(y = black | BB) * P(BB | x = black) + P(y = black | BW) * P(BW | x = black) = \\frac{2}{3} * 1 + \\frac{1}{3} * 0 = \\frac{2}{3} $"
   ]
  },
  {
   "cell_type": "markdown",
   "metadata": {},
   "source": [
    "**c)**\n",
    "\n",
    "\n",
    "Analogous to b) we can count the equally likely possible ways that y = black given x = white, but due to problem's symmetry we know:\n",
    "\n",
    "$ P(y = black | x = white) = P (y = white | x = black) $\n",
    "\n",
    "As there are only two values y can take on, their conditional probabilities must add up to 1.\n",
    "$ P(y = black | x = black) + P(y = white | x = black) = 1 $\n",
    "\n",
    "\n",
    "And thus we get: $P(y = black | x = white) = 1 - P(y = black | x = black) = \\frac{1}{3} $"
   ]
  },
  {
   "cell_type": "markdown",
   "metadata": {},
   "source": [
    "## 7.1.2 Entropy and Kullback Leibler Divergence\n",
    "\n",
    "**Questions:**\n",
    "\n",
    "a) Compute the Entropy of the normal distribution\n",
    "\n",
    "\\begin{equation*}\n",
    "\\mathcal N(x; \\mu,\\sigma) = \\frac{1}{\\sqrt{2\\pi\\sigma^2}} \\mathrm{e}^{\\frac{(x-\\mu)^2}{2\\sigma^2}}\\,.\n",
    "\\end{equation*}\n",
    "\n",
    "b) Find the Kullback-Leibler divergence between two Gaussian distributions, i.e.\n",
    "\n",
    "\\begin{equation*}\n",
    "D_{KL}\\left( \\mathcal N(\\mu_1, \\sigma_1) \\vert\\vert \\mathcal N(\\mu_2, \\sigma_2) \\right)\\,.\n",
    "\\end{equation*}"
   ]
  },
  {
   "cell_type": "markdown",
   "metadata": {},
   "source": [
    "**Answers:**\n",
    "\n",
    "**a)**\n",
    "\n",
    "\n",
    "\n",
    "\\begin{equation*}\n",
    "p(x) = \\mathcal N(x; \\mu,\\sigma) = \\frac{1}{\\sqrt{2\\pi\\sigma^2}} \\mathrm{e}^{-\\frac{(x-\\mu)^2}{2\\sigma^2}}\n",
    "\\end{equation*}\n",
    "\n",
    "\\begin{equation}\n",
    "\\int_{-\\infty}^{\\infty}\\mathcal N(x; \\mu,\\sigma)dx = 1\n",
    "\\end{equation}\n",
    "\n",
    "\\begin{equation*}\n",
    "\\sigma^2 = E[(x-\\mu)^2] =  \\int_{-\\infty}^{\\infty}(x-\\mu)^2\\mathcal N(x; \\mu,\\sigma)dx\n",
    "\\end{equation*}\n",
    "\n",
    "So we can calculate the entropy:"
   ]
  },
  {
   "cell_type": "markdown",
   "metadata": {},
   "source": [
    "Base change of logarithm: $ log_2(x) = \\frac{ln(x)}{ln(2)}$"
   ]
  },
  {
   "cell_type": "markdown",
   "metadata": {},
   "source": [
    "\\begin{equation*}\n",
    "H = E[-log[p(x)]] = - \\int_{-\\infty}^{\\infty} p(x) log_2 [p(x)] dx \\\\\n",
    "= - \\frac{1}{ln(2)} \\int_{-\\infty}^{\\infty} p(x) ln [p(x)] dx \\\\\n",
    "= - \\frac{1}{ln(2)} \\int_{-\\infty}^{\\infty} p(x) ln [p(x)] dx \\\\\n",
    "= - \\frac{1}{ln(2)} \\int_{-\\infty}^{\\infty} \\frac{1}{\\sqrt{2\\pi\\sigma^2}} \\mathrm{e}^{-\\frac{(x-\\mu)^2}{2\\sigma^2}} * ln \\left[ \\frac{1}{\\sqrt{2\\pi\\sigma^2}} \\mathrm{e}^{-\\frac{(x-\\mu)^2}{2\\sigma^2}} \\right] dx \\\\\n",
    "= \\frac{1}{ln(2)} \\bigg[ \\frac{1}{2} ln[2\\pi\\sigma^2] * \\int_{-\\infty}^{\\infty} \\frac{1}{\\sqrt{2\\pi\\sigma^2}} \\mathrm{e}^{-\\frac{(x-\\mu)^2}{2\\sigma^2}}dx + \\frac{1}{2\\sigma^2} * \\int \\frac{1}{\\sqrt{2\\pi\\sigma^2}} * (x-\\mu)^2 * \\mathrm{e}^{-\\frac{(x-\\mu)^2}{2\\sigma^2}}dx \\bigg] \\\\\n",
    "\\end{equation*}\n",
    "with the equation above:\n",
    "\\begin{equation*}\n",
    "= \\frac{1}{ln(2)} \\bigg[ \\frac{1}{2}ln[2\\pi\\sigma^2] * 1 + \\frac{1}{2\\sigma^2} * \\sigma^2 \\bigg] \\\\\n",
    "= \\frac{1}{ln(2)} \\bigg[ \\frac{1}{2}ln[2\\pi\\sigma^2] + \\frac{1}{2} \\bigg] \\\\\n",
    "= \\frac{1}{ln(2)} \\frac{1}{2}(1 + ln[2\\pi\\sigma^2]) \\\\\n",
    "= \\frac{1}{ln(2)} \\frac{1}{2}(ln[\\mathrm{e}] + ln[2\\pi\\sigma^2]) \\\\\n",
    "= \\frac{1}{ln(2)} \\frac{1}{2}ln[2\\pi\\mathrm{e}\\sigma^2]\n",
    "= \\frac{1}{2}log_2[2\\pi\\mathrm{e}\\sigma^2]\n",
    "\\end{equation*}\n",
    "\n",
    "So \n",
    "\n",
    "\\begin{equation*}\n",
    "H = \\frac{1}{2}log_2[2\\pi\\mathrm{e}\\sigma^2]\n",
    "\\end{equation*}\n",
    "\n",
    "\n",
    "\n",
    "**b)**\n",
    "<center>\n",
    "$p(x) = \\mathcal N(\\mu_1, \\sigma_1)$\n",
    "</center>\n",
    "<center>\n",
    "$q(x) = \\mathcal N(\\mu_2, \\sigma_2)$\n",
    "</center>\n",
    "\n",
    "\\begin{equation*}\n",
    "D_{KL}\\left( \\mathcal N(\\mu_1, \\sigma_1) \\vert\\vert \\mathcal N(\\mu_2, \\sigma_2) \\right) = \\int p(x) * log \\frac{p(x)}{q(x)}dx \\\\\n",
    "= \\int p(x) * \\left( log [p(x)] - log[q(x)] \\right) dx \\\\\n",
    "= \\int p(x) * log [p(x)] - p(x) * log[q(x)] dx \\\\\n",
    "= \\int p(x) * log [p(x)]dx - \\int p(x) * log[q(x)] dx \n",
    "\\end{equation*}\n",
    "\n",
    "\n",
    "\n",
    "We know the **first part** from **a)**:\n",
    "\n",
    "\\begin{equation*}\n",
    "\\int p(x)log[p(x)]dx = -\\frac{1}{2}(1 + log_2[2\\pi\\sigma_1^2]) \n",
    "\\end{equation*}\n",
    "\n",
    "**Second part**:\n",
    "\n",
    "\\begin{equation*}\n",
    "- \\int p(x)log[q(x)]dx \\\\\n",
    "= - \\int p(x) * log \\left( \\frac{1}{\\sqrt{2\\pi\\sigma_2^2}} \\mathrm{e}^{-\\frac{(x-\\mu_2)^2}{2\\sigma_2^2}} \\right)dx \\\\\n",
    "= - \\int p(x) * log \\frac{1}{\\sqrt{2\\pi\\sigma_2^2}} dx - \\int p(x) * log \\left(\\mathrm{e}^{-\\frac{(x-\\mu_2)^2}{2\\sigma_2^2}}\\right) dx \\\\\n",
    "= \\frac{1}{2} log[2\\pi\\sigma_2^2] * \\int p(x)dx - \\int p(x) * log \\left(\\mathrm{e}^{-\\frac{(x-\\mu_2)^2}{2\\sigma_2^2}}\\right) dx \\\\\n",
    "\\end{equation*}\n",
    "\n",
    "with \n",
    "\n",
    "\\begin{equation}\n",
    "\\int_{-\\infty}^{\\infty}\\mathcal N(x; \\mu,\\sigma)dx = 1\n",
    "\\end{equation}\n",
    "\n",
    "we get\n",
    "\n",
    "\\begin{equation*}\n",
    "= \\frac{1}{2} log[2\\pi\\sigma_2^2] * 1 - \\int p(x) * log \\left(\\mathrm{e}^{-\\frac{(x-\\mu_2)^2}{2\\sigma_2^2}}\\right) dx \\\\\n",
    "= \\frac{1}{2} log[2\\pi\\sigma_2^2] - \\int p(x) * \\left({-\\frac{(x-\\mu_2)^2}{2\\sigma_2^2}}\\right) dx \\\\\n",
    "\\end{equation*}\n",
    "\n",
    "and with\n",
    "\n",
    "\\begin{equation*}\n",
    "\\int p(x) * \\left({-\\frac{(x-\\mu_2)^2}{2\\sigma_2^2}}\\right) dx \\\\\n",
    "= \\int p(x) * \\left( -\\frac{(x^2-2\\mu_2x+\\mu_2^2)}{2\\sigma_2^2} \\right)dx \\\\\n",
    "= -\\frac{1}{2\\sigma_2^2} \\int p(x)x^2-p(x)2\\mu_2x+p(x)\\mu_2^2 dx \\\\\n",
    "= -\\frac{1}{2\\sigma_2^2} \\left( \\int p(x)x^2 dx - \\int p(x)2\\mu_2x dx +\\int p(x)\\mu_2^2 dx \\right)\\\\\n",
    "= -\\frac{1}{2\\sigma_2^2} \\left( E(x^2) - E(x)2\\mu_2 + \\mu_2^2 \\right)\\\\\n",
    "\\end{equation*}\n",
    "\n",
    "we know:\n",
    "\n",
    "\\begin{equation*}\n",
    "\\sigma^2 = E(x^2) - E(x)^2\\\\\n",
    "E(x^2) = \\sigma_1^2 + E(x)^2\\\\\n",
    "= \\sigma_1^2 + \\mu_1^2\n",
    "\\end{equation*}\n",
    "\n",
    "so we get:\n",
    "\n",
    "\\begin{equation*}\n",
    "= -\\frac{1}{2\\sigma_2^2} \\left( \\sigma_1^2 + \\mu_1^2 - 2\\mu_1\\mu_2 + \\mu_2^2 \\right)\\\\\n",
    "\\int p(x) * \\left({-\\frac{(x-\\mu_2)^2}{2\\sigma_2^2}}\\right) dx = -\\frac{1}{2\\sigma_2^2} \\left( \\sigma_1^2 + (\\mu_1-\\mu_2)^2 \\right)\\\\\n",
    "\\end{equation*}\n",
    "\n",
    "if we put it all together we get for the **second part**:\n",
    "\n",
    "\\begin{equation*}\n",
    "- \\int p(x)log[q(x)]dx \\\\\n",
    "= \\frac{1}{2} log[2\\pi\\sigma_2^2] +  \\frac{\\sigma_1^2 + (\\mu_1-\\mu_2)^2}{2\\sigma_2^2} \\\\\n",
    "\\end{equation*}\n",
    "\n",
    "Then we get the Kullback Leibler divergence:\n",
    "\n",
    "\\begin{equation*}\n",
    "D_{KL}\\left( \\mathcal N(\\mu_1, \\sigma_1) \\vert\\vert \\mathcal N(\\mu_2, \\sigma_2) \\right) = \\int p(x) * log \\frac{p(x)}{q(x)}dx \\\\\n",
    "= \\int p(x) * log [p(x)]dx - \\int p(x) * log[q(x)] dx \\\\\n",
    "= -\\frac{1}{2}(1 + log[2\\pi\\sigma_1^2]) + \\frac{1}{2} log[2\\pi\\sigma_2^2] +  \\frac{\\sigma_1^2 + (\\mu_1-\\mu_2)^2}{2\\sigma_2^2} \\\\\n",
    "= -\\frac{1}{2} - \\frac{1}{2} log[2\\pi\\sigma_1^2] + \\frac{1}{2} log[2\\pi\\sigma_2^2] +  \\frac{\\sigma_1^2 + (\\mu_1-\\mu_2)^2}{2\\sigma_2^2} \\\\\n",
    "= -\\frac{1}{2} + log\\frac{\\sigma_2^2}{\\sigma_1^2} + \\frac{\\sigma_1^2 + (\\mu_1-\\mu_2)^2}{2\\sigma_2^2}\n",
    "\\end{equation*}"
   ]
  },
  {
   "cell_type": "markdown",
   "metadata": {},
   "source": [
    "## 7.1.3 Distributions and CLT\n",
    "\n",
    "The central limit theorem states that for i.i.d. random samples $\\{X_i\\}$ from an (almost) arbitrary distribution with given mean $\\mu$ and variance $\\sigma^2$, the mean $\\frac{1}{n}\\sum_{i=1}^n X_i$ follows approximately a normal distribution. More precisely, it reads\n",
    "\n",
    "\\begin{equation*}\n",
    "\t\\frac{1}{n} \\sum_{i=1}^n X_i \\xrightarrow{n\\to\\infty} \\mathcal N(\\mu, \\frac{\\sigma^2}{\\sqrt{n}})\\,.\n",
    "\\end{equation*}\n",
    "\n",
    "**Questions:**\n",
    "\n",
    "- a) Draw $n=1,16,64, 1024$ samples from the distributions below for $1024$ times (each). Draw for each (n, distribution) pair a histogram over the sample mean. Include the corresponding normal distribution (pdf) in the plot.\n",
    "\n",
    "    - the exponential distribution $p(X) = \\lambda \\mathrm{e}^{-\\lambda X}$\n",
    "    - the Gaussian/normal distribution \n",
    "- b) Assume, that you can only sample from uniform distributions. Implement functions to sample from an approximated standard normal distribution and an approximated normal distribution. Plot the distributions in comparison to the numpy implementation."
   ]
  },
  {
   "cell_type": "code",
   "execution_count": 11,
   "metadata": {},
   "outputs": [
    {
     "data": {
      "image/png": "[encoded data removed]",
      "text/plain": [
       "<Figure size 432x288 with 4 Axes>"
      ]
     },
     "metadata": {
      "needs_background": "light"
     },
     "output_type": "display_data"
    },
    {
     "data": {
      "image/png": "[encoded data removed]",
      "text/plain": [
       "<Figure size 432x288 with 4 Axes>"
      ]
     },
     "metadata": {
      "needs_background": "light"
     },
     "output_type": "display_data"
    }
   ],
   "source": [
    "import numpy as np\n",
    "import matplotlib.pyplot as plt\n",
    "from scipy import stats\n",
    "from scipy.stats import norm\n",
    "\n",
    "# a)\n",
    "n = [1,16,64,1024]\n",
    "\n",
    "def draw(n, d):\n",
    "    for m in range(1,1024):\n",
    "        if d is 'exp':\n",
    "            distr = stats.expon.rvs(size=n)\n",
    "        elif d is 'pdf':\n",
    "            distr = stats.norm.rvs(size=n)\n",
    "        \n",
    "        mu = np.mean(distr)\n",
    "        mean_distr.append(mu)\n",
    "    exps.append(mean_distr)\n",
    "\n",
    "# plot Exponential Distribution\n",
    "fig, ax = plt.subplots(2, 2) #, sharex=True, sharey=True)\n",
    "ax = ax.ravel()\n",
    "for s in range(len(n)):\n",
    "    exps = []\n",
    "    mean_distr = []\n",
    "    draw(n[s], 'exp')\n",
    "    ax[s].hist(exps, density=True)\n",
    "    \n",
    "    # Plot the PDF.\n",
    "    xmin, xmax = [0, 6]\n",
    "    x = np.linspace(xmin, xmax, 100)\n",
    "    mu = 1 # 1 / lamda, lamda = 1 by default\n",
    "    std = mu # special property of the exponential distribution\n",
    "    p = norm.pdf(x, mu, std / np.sqrt(n[s]))\n",
    "    ax[s].plot(x, p, 'k', linewidth=2)\n",
    "    \n",
    "    ax[s].set_title('Histogram sample size:' + str(n[s]))\n",
    "    fig.suptitle('Exponential Distribution')\n",
    "    \n",
    "# plot Gaussian Distribution\n",
    "fig, ax = plt.subplots(2, 2) #, sharex=True, sharey=True)\n",
    "ax = ax.ravel()\n",
    "for s in range(len(n)):\n",
    "    exps = []\n",
    "    mean_distr = []\n",
    "    draw(n[s], 'pdf')\n",
    "    \n",
    "    ax[s].hist(exps, density=True)\n",
    "\n",
    "    # Plot the PDF.\n",
    "    xmin, xmax = [-5, 2]\n",
    "    x = np.linspace(xmin, xmax, 100)\n",
    "    mu = 0 \n",
    "    std = 1\n",
    "    p = norm.pdf(x, mu, std / np.sqrt(n[s]))\n",
    "    ax[s].plot(x, p, 'k', linewidth=2)\n",
    "\n",
    "    \n",
    "    ax[s].set_title('Histogram sample size:' + str(n[s]))\n",
    "    fig.suptitle('Gaussian Distribution')\n",
    "\n",
    "## END TODO ########################"
   ]
  },
  {
   "cell_type": "code",
   "execution_count": 2,
   "metadata": {},
   "outputs": [
    {
     "data": {
      "image/png": "[encoded data removed]",
      "text/plain": [
       "<Figure size 432x288 with 1 Axes>"
      ]
     },
     "metadata": {
      "needs_background": "light"
     },
     "output_type": "display_data"
    },
    {
     "data": {
      "image/png": "[encoded data removed]",
      "text/plain": [
       "<Figure size 432x288 with 1 Axes>"
      ]
     },
     "metadata": {
      "needs_background": "light"
     },
     "output_type": "display_data"
    },
    {
     "data": {
      "image/png": "[encoded data removed]",
      "text/plain": [
       "<Figure size 432x288 with 1 Axes>"
      ]
     },
     "metadata": {
      "needs_background": "light"
     },
     "output_type": "display_data"
    },
    {
     "data": {
      "image/png": "[encoded data removed]",
      "text/plain": [
       "<Figure size 432x288 with 1 Axes>"
      ]
     },
     "metadata": {
      "needs_background": "light"
     },
     "output_type": "display_data"
    }
   ],
   "source": [
    "# b)     ######## TODO ########### Not right yet ####\n",
    "\n",
    "def std_normal(n_samples: int = 1) -> np.ndarray:\n",
    "    \"\"\" Sample from a standard normal distribution. \n",
    "        The normal distribution is approximated via a uniform dist.\n",
    "    \n",
    "        n_samples: number of samples of a standard normal distribution\n",
    "        return:    samples.length = n_samples\n",
    "    \"\"\"\n",
    "    n = 1000\n",
    "    a = np.sqrt(n * 3)\n",
    "    \n",
    "    y = []\n",
    "    for i in range(n_samples):\n",
    "        x = np.sum(np.random.uniform(-a,a,n))/n\n",
    "        y.append(x)\n",
    "    return y\n",
    "    # return value has len n_samples\n",
    "\n",
    "def normal(loc: float = 0.0, scale: float = 1.0, n_samples: int = 1) -> np.ndarray:\n",
    "    \"\"\" Sample from a normal distribution.\n",
    "        The normal distribution is approximated via a uniform dist.\n",
    "    \n",
    "        loc: mean of the distribution\n",
    "        scale: standard deviation spread of the distribution.\n",
    "        \n",
    "        n_samples: number of samples\n",
    "        return:    samples. length = n_samples\n",
    "    \"\"\"\n",
    "    n = 1000\n",
    "    a = np.sqrt(n * 3) * scale\n",
    "    \n",
    "    y = []\n",
    "    for i in range(n_samples):\n",
    "        x = loc + np.sum(np.random.uniform(-a, a, n))/n\n",
    "        y.append(x)\n",
    "    return y\n",
    "    \n",
    "\n",
    "n_samples = 10000\n",
    "bins = 20\n",
    "\n",
    "# plot histograms for standard normal with std_normal and np.random.normal\n",
    "## START TODO #########################\n",
    "plt.figure()\n",
    "plt.title('Histogram of std_normal')\n",
    "plt.hist(std_normal(n_samples), bins=20)\n",
    "plt.show()\n",
    "\n",
    "plt.figure()\n",
    "plt.title('Histogram of numpy')\n",
    "plt.hist(np.random.normal(0, 1, n_samples), bins=20)\n",
    "plt.show()\n",
    "\n",
    "## END TODO ########################\n",
    "\n",
    "# plot histograms for N(mean=-10, std=3) with normal and np.random.normal\n",
    "## START TODO ########################\n",
    "plt.figure()\n",
    "plt.title('Histogram of normal')\n",
    "plt.hist(normal(-10, 3, n_samples), bins=20)\n",
    "plt.show()\n",
    "\n",
    "plt.figure()\n",
    "plt.title('Histogram of numpy')\n",
    "plt.hist(np.random.normal(-10, 3, n_samples), bins=20)\n",
    "plt.show()\n",
    "\n",
    "## END TODO ########################"
   ]
  },
  {
   "cell_type": "markdown",
   "metadata": {},
   "source": [
    "### Your Feedback on Exercise 7.1\n",
    "\n",
    "* We had no major problems.\n",
    "* Helpful refresh of plotting distributions.\n",
    "* We needed 7 hours."
   ]
  },
  {
   "cell_type": "markdown",
   "metadata": {},
   "source": [
    "## 7.2 Autoencoder\n",
    "\n",
    "Let's now implement our own variational auto encoder (VAE). The VAE is described in chapter 20.10.3 of the Deep Learning Book and you can find the original paper [here](https://arxiv.org/pdf/1312.6114.pdf).\n",
    "\n",
    "Compared to a \"standard\" auto encoder, a VAE learns to approximate the posterior."
   ]
  },
  {
   "cell_type": "code",
   "execution_count": 3,
   "metadata": {},
   "outputs": [],
   "source": [
    "from __future__ import print_function\n",
    "import os\n",
    "import argparse\n",
    "from typing import Tuple\n",
    "\n",
    "import torch\n",
    "import torch.utils.data\n",
    "from torch import nn, optim\n",
    "from torch.nn import functional as F\n",
    "from torchvision import datasets, transforms\n",
    "from torchvision.utils import save_image\n",
    "\n",
    "import numpy as np\n",
    "import matplotlib.pyplot as plt"
   ]
  },
  {
   "cell_type": "code",
   "execution_count": 4,
   "metadata": {},
   "outputs": [],
   "source": [
    "torch.manual_seed(0)\n",
    "device = torch.device(\"cpu\")"
   ]
  },
  {
   "cell_type": "code",
   "execution_count": 5,
   "metadata": {},
   "outputs": [
    {
     "name": "stdout",
     "output_type": "stream",
     "text": [
      "Downloading http://yann.lecun.com/exdb/mnist/train-images-idx3-ubyte.gz\n",
      "Downloading http://yann.lecun.com/exdb/mnist/train-labels-idx1-ubyte.gz\n",
      "Downloading http://yann.lecun.com/exdb/mnist/t10k-images-idx3-ubyte.gz\n",
      "Downloading http://yann.lecun.com/exdb/mnist/t10k-labels-idx1-ubyte.gz\n",
      "Processing...\n",
      "Done!\n"
     ]
    }
   ],
   "source": [
    "train_loader = torch.utils.data.DataLoader(\n",
    "    datasets.MNIST('../data', train=True, download=True,\n",
    "    transform=transforms.Compose([transforms.ToTensor()])),\n",
    "    batch_size=128, shuffle=True)\n",
    "test_loader = torch.utils.data.DataLoader(\n",
    "    datasets.MNIST('../data', train=False, transform=transforms.ToTensor()),\n",
    "    batch_size=128, shuffle=False)"
   ]
  },
  {
   "cell_type": "code",
   "execution_count": 6,
   "metadata": {},
   "outputs": [],
   "source": [
    "class VAE(nn.Module):\n",
    "    def __init__(self, latent_space_size=2):\n",
    "        \"\"\"Variational auto encoder.\n",
    "        \n",
    "        Create the VAE with the MLP encoder having one hidden layer\n",
    "        and two output layers (mean and log of the variance).\n",
    "        Use a hidden size of 100 and each output size of `latent_space_size`.\n",
    "        \n",
    "        The decoder should be as powerful as the encoder.\n",
    "        \"\"\"\n",
    "        ## START TODO ########################\n",
    "        super(VAE, self).__init__()\n",
    "        self.latent_space_size = latent_space_size\n",
    "        \n",
    "        # encoder\n",
    "        # 28 x 28 pixels = 784 input pixels, 100 hidden size\n",
    "        self.fc1 = nn.Linear(1*28*28, 100)\n",
    "        # mu layer\n",
    "        self.fc21 = nn.Linear(100, self.latent_space_size)\n",
    "        # logvar layer\n",
    "        self.fc22 = nn.Linear(100, self.latent_space_size)\n",
    "\n",
    "        #decoder\n",
    "        self.fc3 = nn.Linear(self.latent_space_size, 100)\n",
    "        self.fc4 = nn.Linear(100, 1*28*28)\n",
    "        \n",
    "        ## END TODO ########################\n",
    "\n",
    "    def encode(self, x) -> Tuple[torch.Tensor, torch.Tensor]:\n",
    "        \"\"\" Encode x to distribution.\n",
    "        \n",
    "        Compute the hidden representation. Estimate and return the mean\n",
    "        and the log of the variance from the hidden representation. Use\n",
    "        relu as activation function for the hidden representation.\n",
    "        \"\"\"\n",
    "        ## START TODO ########################\n",
    "        h1 = F.relu(self.fc1(x))      \n",
    "        return self.fc21(h1), self.fc22(h1)\n",
    "\n",
    "        ## END TODO ########################\n",
    "\n",
    "    def reparameterize(self, mu, logvar) -> torch.Tensor:\n",
    "        \"\"\"Sample from the estimated distribution.\n",
    "        \n",
    "        In training mode, return a sample from N(mu, logvar).\n",
    "        In evaluation mode, just return the mean.\n",
    "        \n",
    "        Hint: You estimate the log of the variance, so you need to transform\n",
    "        this to std deviation first, as torch.randn\n",
    "        \"\"\"\n",
    "        ## START TODO ########################\n",
    "        if self.training:\n",
    "            # multiply log variance with 0.5, then in-place exponent\n",
    "            # yielding the standard deviation\n",
    "            std = logvar.mul(0.5).exp_()\n",
    "            eps = torch.FloatTensor(std.size()).normal_()\n",
    "            return eps.mul(std).add_(mu)\n",
    "        else:\n",
    "            return mu\n",
    "        \n",
    "        ## End TODO ########################\n",
    "\n",
    "    def decode(self, z) -> torch.Tensor:\n",
    "        \"\"\" Decode the latent representation.\n",
    "        \n",
    "        Compute the hidden representation from the latent space z,\n",
    "        use relu as activation. Then reconstruct the signal from\n",
    "        the hidden representation, using a sigmoid as activation.\n",
    "        \"\"\"\n",
    "        ## START TODO ########################\n",
    "        h2 = F.relu(self.fc3(z))\n",
    "        return F.sigmoid(self.fc4(h2))\n",
    "        \n",
    "        ## END TODO ########################\n",
    "\n",
    "    def forward(self, x) -> Tuple[torch.Tensor, torch.Tensor, torch.Tensor]:\n",
    "        \"\"\"Encode, reparameterize and decode.\n",
    "        \n",
    "        Returns:\n",
    "            (The decoded result, mu, logvar)\n",
    "        \"\"\"\n",
    "        ## START TODO ########################\n",
    "        mu, logvar = self.encode(x.view(-1, 1*28*28))\n",
    "        z = self.reparameterize(mu, logvar)\n",
    "        return self.decode(z), mu, logvar\n",
    "        ## END TODO ########################"
   ]
  },
  {
   "cell_type": "code",
   "execution_count": 7,
   "metadata": {},
   "outputs": [],
   "source": [
    "# Reconstruction + KL divergence losses summed over all elements and batch\n",
    "def loss_function(x_reconstructed, x, mu, logvar, kl_loss_weight=1):\n",
    "    ## START TODO ########################\n",
    "    # compute the binary cross entropy between x and the reconstructed x\n",
    "    # \n",
    "    rec_loss = F.binary_cross_entropy(x_reconstructed, x, reduction=\"sum\") \n",
    "    \n",
    "    # Here your results from 7.1.2 come into play - The first distribution is\n",
    "    # the N(mu, logvar) and the second is N(0, 1). Plugging this into\n",
    "    # the result from 7.1.2 yields\n",
    "    # -0.5 * sum(1 + log(sigma^2) - mu^2 - sigma^2)\n",
    "    # you can also check Appendix B from the VAE paper:\n",
    "    # https://arxiv.org/abs/1312.6114\n",
    "    \n",
    "    kl_div_loss = -0.5 * torch.sum(1 + logvar - mu.pow(2) - logvar)\n",
    "    \n",
    "    ## END TODO ########################\n",
    "    return rec_loss + kl_div_loss * kl_loss_weight"
   ]
  },
  {
   "cell_type": "code",
   "execution_count": 8,
   "metadata": {},
   "outputs": [],
   "source": [
    "def train(model, epoch, optimizer, kl_loss_weight=1, save_images=False):\n",
    "    model.train()\n",
    "    train_loss = 0\n",
    "    for batch_idx, (data, _) in enumerate(train_loader):\n",
    "        data = data.to(device)\n",
    "        optimizer.zero_grad()\n",
    "        reconstructed_batch, mu, logvar = model(data)\n",
    "        loss = loss_function(reconstructed_batch, data, mu, logvar, kl_loss_weight)\n",
    "        loss.backward()\n",
    "        train_loss += loss.item()\n",
    "        optimizer.step()\n",
    "    if save_images:\n",
    "        n = min(data.size(0), 8)\n",
    "        training_image = torch.cat([data[:n]])\n",
    "        save_image(training_image.cpu(),\n",
    "                   'results/training_samples_' + str(epoch) + '.png', nrow=n)\n",
    "\n",
    "    print('====> Epoch: {} Average train set loss: {:.4f}'.format(\n",
    "          epoch, train_loss / len(train_loader.dataset)))\n",
    "\n",
    "\n",
    "def test(model, epoch, kl_loss_weight=1, save_images=False):\n",
    "    model.eval()\n",
    "    test_loss = 0\n",
    "    with torch.no_grad():\n",
    "        for i, (data, _) in enumerate(test_loader):\n",
    "            data = data.to(device)\n",
    "            reconstructed_batch, mu, logvar = model(data)\n",
    "            test_loss += loss_function(reconstructed_batch, data, mu, logvar, kl_loss_weight).item()\n",
    "            if i == 0:\n",
    "                n = min(data.size(0), 8)\n",
    "                comparison = torch.cat([data[:n],\n",
    "                                      reconstructed_batch.view(128, 1, 28, 28)[:n]])\n",
    "                if not save_images:\n",
    "                    continue\n",
    "                save_image(comparison.cpu(),\n",
    "                         'results/reconstruction_' + str(epoch) + '.png', nrow=n)\n",
    "\n",
    "    test_loss /= len(test_loader.dataset)\n",
    "    print('====> Average test set loss: {:.4f}'.format(test_loss))"
   ]
  },
  {
   "cell_type": "code",
   "execution_count": 9,
   "metadata": {},
   "outputs": [
    {
     "name": "stderr",
     "output_type": "stream",
     "text": [
      "/home/juliane/.local/lib/python3.6/site-packages/torch/nn/functional.py:1006: UserWarning: nn.functional.sigmoid is deprecated. Use torch.sigmoid instead.\n",
      "  warnings.warn(\"nn.functional.sigmoid is deprecated. Use torch.sigmoid instead.\")\n",
      "/home/juliane/.local/lib/python3.6/site-packages/torch/nn/functional.py:1594: UserWarning: Using a target size (torch.Size([128, 1, 28, 28])) that is different to the input size (torch.Size([128, 784])) is deprecated. Please ensure they have the same size.\n",
      "  \"Please ensure they have the same size.\".format(target.size(), input.size()))\n",
      "/home/juliane/.local/lib/python3.6/site-packages/torch/nn/functional.py:1594: UserWarning: Using a target size (torch.Size([96, 1, 28, 28])) that is different to the input size (torch.Size([96, 784])) is deprecated. Please ensure they have the same size.\n",
      "  \"Please ensure they have the same size.\".format(target.size(), input.size()))\n"
     ]
    },
    {
     "name": "stdout",
     "output_type": "stream",
     "text": [
      "====> Epoch: 1 Average train set loss: 209.3321\n"
     ]
    },
    {
     "name": "stderr",
     "output_type": "stream",
     "text": [
      "/home/juliane/.local/lib/python3.6/site-packages/torch/nn/functional.py:1594: UserWarning: Using a target size (torch.Size([16, 1, 28, 28])) that is different to the input size (torch.Size([16, 784])) is deprecated. Please ensure they have the same size.\n",
      "  \"Please ensure they have the same size.\".format(target.size(), input.size()))\n"
     ]
    },
    {
     "name": "stdout",
     "output_type": "stream",
     "text": [
      "====> Average test set loss: 178.1429\n",
      "====> Epoch: 2 Average train set loss: 173.5194\n",
      "====> Average test set loss: 168.1046\n",
      "====> Epoch: 3 Average train set loss: 166.0234\n",
      "====> Average test set loss: 163.3870\n",
      "====> Epoch: 4 Average train set loss: 162.5645\n",
      "====> Average test set loss: 161.0998\n",
      "====> Epoch: 5 Average train set loss: 160.3558\n",
      "====> Average test set loss: 159.1481\n",
      "====> Epoch: 6 Average train set loss: 158.5980\n",
      "====> Average test set loss: 157.6435\n",
      "====> Epoch: 7 Average train set loss: 157.2226\n",
      "====> Average test set loss: 156.5400\n",
      "====> Epoch: 8 Average train set loss: 156.1655\n",
      "====> Average test set loss: 155.8652\n",
      "====> Epoch: 9 Average train set loss: 155.3712\n",
      "====> Average test set loss: 155.0360\n",
      "====> Epoch: 10 Average train set loss: 154.6356\n",
      "====> Average test set loss: 154.6252\n",
      "====> Epoch: 11 Average train set loss: 154.0170\n",
      "====> Average test set loss: 154.1053\n",
      "====> Epoch: 12 Average train set loss: 153.4798\n",
      "====> Average test set loss: 153.6531\n",
      "====> Epoch: 13 Average train set loss: 152.9478\n",
      "====> Average test set loss: 153.1009\n",
      "====> Epoch: 14 Average train set loss: 152.4513\n",
      "====> Average test set loss: 152.6908\n"
     ]
    }
   ],
   "source": [
    "latent_space_size = 2\n",
    "model = VAE(latent_space_size).to(device)\n",
    "optimizer = optim.Adam(model.parameters(), lr=1e-3)\n",
    "\n",
    "if not os.path.isdir('results'):\n",
    "    os.mkdir('results')\n",
    "\n",
    "for epoch in range(1, 15):\n",
    "    train(model, epoch, optimizer, save_images=True)\n",
    "    test(model, epoch, save_images=True)\n",
    "    with torch.no_grad():\n",
    "        ## START TODO ########################\n",
    "        # sample 64 images (generate a random latent_space and decode)\n",
    "        \n",
    "        sample = torch.randn(64, latent_space_size)\n",
    "        \n",
    "        sample = model.decode(sample)\n",
    "        ## END TODO ########################\n",
    "        save_image(sample.view(64, 1, 28, 28),\n",
    "                   'results/sample_' + str(epoch) + '.png')\n"
   ]
  },
  {
   "cell_type": "markdown",
   "metadata": {},
   "source": [
    "## Exploring the latent space\n",
    "\n",
    "One of the easiest ways to visualize the latent space is to limit the size to two dimensions (which of course might not always capture the data well) and to sample from the model over a 2D grid. This is what we're going to do below. Also, we can nicely visualize the concept of a VAE. We plot the mean over the estimated means for each class (the numbers 0 to 9) and the mean estimated standard deviation for each class (the blue crosses)."
   ]
  },
  {
   "cell_type": "code",
   "execution_count": 10,
   "metadata": {},
   "outputs": [
    {
     "ename": "RuntimeError",
     "evalue": "expected a non-empty list of Tensors",
     "output_type": "error",
     "traceback": [
      "\u001b[0;31m---------------------------------------------------------------------------\u001b[0m",
      "\u001b[0;31mRuntimeError\u001b[0m                              Traceback (most recent call last)",
      "\u001b[0;32m<ipython-input-10-45942a2ec0fa>\u001b[0m in \u001b[0;36m<module>\u001b[0;34m\u001b[0m\n\u001b[1;32m     80\u001b[0m     \u001b[0mplt\u001b[0m\u001b[0;34m.\u001b[0m\u001b[0mshow\u001b[0m\u001b[0;34m(\u001b[0m\u001b[0;34m)\u001b[0m\u001b[0;34m\u001b[0m\u001b[0m\n\u001b[1;32m     81\u001b[0m \u001b[0;34m\u001b[0m\u001b[0m\n\u001b[0;32m---> 82\u001b[0;31m \u001b[0mplot_latent_space\u001b[0m\u001b[0;34m(\u001b[0m\u001b[0mmodel\u001b[0m\u001b[0;34m)\u001b[0m\u001b[0;34m\u001b[0m\u001b[0m\n\u001b[0m",
      "\u001b[0;32m<ipython-input-10-45942a2ec0fa>\u001b[0m in \u001b[0;36mplot_latent_space\u001b[0;34m(model)\u001b[0m\n\u001b[1;32m     27\u001b[0m \u001b[0;32mdef\u001b[0m \u001b[0mplot_latent_space\u001b[0m\u001b[0;34m(\u001b[0m\u001b[0mmodel\u001b[0m\u001b[0;34m:\u001b[0m \u001b[0mnn\u001b[0m\u001b[0;34m.\u001b[0m\u001b[0mModule\u001b[0m\u001b[0;34m)\u001b[0m\u001b[0;34m:\u001b[0m\u001b[0;34m\u001b[0m\u001b[0m\n\u001b[1;32m     28\u001b[0m     \u001b[0mmodel\u001b[0m\u001b[0;34m.\u001b[0m\u001b[0meval\u001b[0m\u001b[0;34m(\u001b[0m\u001b[0;34m)\u001b[0m\u001b[0;34m\u001b[0m\u001b[0m\n\u001b[0;32m---> 29\u001b[0;31m     \u001b[0mmus\u001b[0m\u001b[0;34m,\u001b[0m \u001b[0mlogvars\u001b[0m \u001b[0;34m=\u001b[0m \u001b[0mget_mu_logvar\u001b[0m\u001b[0;34m(\u001b[0m\u001b[0mmodel\u001b[0m\u001b[0;34m)\u001b[0m\u001b[0;34m\u001b[0m\u001b[0m\n\u001b[0m\u001b[1;32m     30\u001b[0m     \u001b[0mmus\u001b[0m \u001b[0;34m=\u001b[0m \u001b[0mmus\u001b[0m\u001b[0;34m.\u001b[0m\u001b[0mdetach\u001b[0m\u001b[0;34m(\u001b[0m\u001b[0;34m)\u001b[0m\u001b[0;34m.\u001b[0m\u001b[0mnumpy\u001b[0m\u001b[0;34m(\u001b[0m\u001b[0;34m)\u001b[0m\u001b[0;34m\u001b[0m\u001b[0m\n\u001b[1;32m     31\u001b[0m     \u001b[0mstddev\u001b[0m \u001b[0;34m=\u001b[0m \u001b[0mnp\u001b[0m\u001b[0;34m.\u001b[0m\u001b[0mexp\u001b[0m\u001b[0;34m(\u001b[0m\u001b[0;36m0.5\u001b[0m\u001b[0;34m*\u001b[0m\u001b[0mlogvars\u001b[0m\u001b[0;34m.\u001b[0m\u001b[0mdetach\u001b[0m\u001b[0;34m(\u001b[0m\u001b[0;34m)\u001b[0m\u001b[0;34m.\u001b[0m\u001b[0mnumpy\u001b[0m\u001b[0;34m(\u001b[0m\u001b[0;34m)\u001b[0m\u001b[0;34m)\u001b[0m\u001b[0;34m\u001b[0m\u001b[0m\n",
      "\u001b[0;32m<ipython-input-10-45942a2ec0fa>\u001b[0m in \u001b[0;36mget_mu_logvar\u001b[0;34m(model)\u001b[0m\n\u001b[1;32m      8\u001b[0m \u001b[0;34m\u001b[0m\u001b[0m\n\u001b[1;32m      9\u001b[0m     \u001b[0;31m## END TODO ########################\u001b[0m\u001b[0;34m\u001b[0m\u001b[0;34m\u001b[0m\u001b[0m\n\u001b[0;32m---> 10\u001b[0;31m     \u001b[0;32mreturn\u001b[0m \u001b[0mtorch\u001b[0m\u001b[0;34m.\u001b[0m\u001b[0mcat\u001b[0m\u001b[0;34m(\u001b[0m\u001b[0mmus\u001b[0m\u001b[0;34m)\u001b[0m\u001b[0;34m,\u001b[0m \u001b[0mtorch\u001b[0m\u001b[0;34m.\u001b[0m\u001b[0mcat\u001b[0m\u001b[0;34m(\u001b[0m\u001b[0mlogvars\u001b[0m\u001b[0;34m)\u001b[0m\u001b[0;34m\u001b[0m\u001b[0m\n\u001b[0m\u001b[1;32m     11\u001b[0m \u001b[0;34m\u001b[0m\u001b[0m\n\u001b[1;32m     12\u001b[0m \u001b[0;34m\u001b[0m\u001b[0m\n",
      "\u001b[0;31mRuntimeError\u001b[0m: expected a non-empty list of Tensors"
     ]
    }
   ],
   "source": [
    "def get_mu_logvar(model: nn.Module) -> Tuple[torch.Tensor, torch.Tensor]:\n",
    "    \"\"\"Compute the model's prediction of mean and logvar for all\n",
    "       images in the MNIST test set.\n",
    "    \"\"\"\n",
    "    mus, logvars = [], []\n",
    "    # encode each image of the test_loader\n",
    "    ## START TODO ########################\n",
    "    \n",
    "    ## END TODO ########################\n",
    "    return torch.cat(mus), torch.cat(logvars)\n",
    "\n",
    "    \n",
    "def sample_on_grid(latent_min: Tuple[int, int], latent_max: Tuple[int, int], \n",
    "                   model: nn.Module, grid_size: int) -> Tuple[np.ndarray, np.ndarray]:\n",
    "    ## START TODO ########################\n",
    "    # create a grid in two directions from latent_min to latent_max, using\n",
    "    # the respective dimension\n",
    "    # x1 = ...\n",
    "    # x2 = ...\n",
    "    # use the created grid as latent variables and run them through the decoder\n",
    "\n",
    "    ## END TODO ########################\n",
    "    step_size = np.array((x1[1] - x1[0], x2[1] - x2[0]))\n",
    "    return decoded.reshape(grid_size, grid_size, 28, 28), step_size\n",
    "\n",
    "\n",
    "def plot_latent_space(model: nn.Module):\n",
    "    model.eval()\n",
    "    mus, logvars = get_mu_logvar(model)\n",
    "    mus = mus.detach().numpy()\n",
    "    stddev = np.exp(0.5*logvars.detach().numpy())\n",
    "\n",
    "    labels = torch.cat([label for _, label in test_loader]).detach().numpy()\n",
    "    num_samples = labels.shape[0]\n",
    "    class_mu_0 = np.bincount(labels, weights=mus[:, 0]) / np.bincount(labels)\n",
    "    class_mu_1 = np.bincount(labels, weights=mus[:, 1]) / np.bincount(labels)\n",
    "    mean_mu = np.stack((class_mu_0, class_mu_1))\n",
    "    print(\"Per class mean of estimated mean:\\n\", mean_mu)\n",
    "\n",
    "    class_stddev_0 = np.bincount(labels, weights=stddev[:, 0]) / np.bincount(labels)\n",
    "    class_stddev_1 = np.bincount(labels, weights=stddev[:, 1]) / np.bincount(labels)\n",
    "    mean_stddev = np.stack((class_stddev_0, class_stddev_1))\n",
    "    print(\"Per class mean of estimated std deviation:\\n\", mean_stddev)\n",
    "\n",
    "    # get the minimum and maximum values of the latent space means\n",
    "    # we will use this as boundaries from which we sample in the latent space\n",
    "    latent_min = np.min(mean_mu - mean_stddev * 2, axis=1)\n",
    "    latent_max = np.max(mean_mu + mean_stddev * 2, axis=1)\n",
    "\n",
    "    # Produce a 20x20 2D grid of evenly spaced values between latent_min ant latent_max\n",
    "    decoded, step_size = sample_on_grid(latent_min, latent_max, model, grid_size=20)\n",
    "    \n",
    "    # visualize the decoded images\n",
    "    # using reshape and np.concatenate and calling imshow only once\n",
    "    # is a lot faster than creating a subplot and calling imshow 400 times.\n",
    "    # It's also necessary to be able to plot the means\n",
    "    block_img = np.concatenate(np.concatenate(decoded, axis=1), axis=1)\n",
    "    f = plt.figure(figsize=(12,12))\n",
    "    plt.imshow(block_img, cmap='Greys')\n",
    "    plt.axis('off');\n",
    "\n",
    "    # visualize the mean mu and the mean standard deviation of each class\n",
    "    # scale the mean accordingly, as the plot's axes represent pixels\n",
    "    scale = (28 / step_size)\n",
    "\n",
    "    mean_mu_scaled = 28/2 + scale.reshape(2, 1) * (mean_mu - latent_min.reshape(2,1))\n",
    "    # we scale the stddev by 2 so the arrows are extended a bit more\n",
    "    mean_stddev_scaled = mean_stddev * scale.reshape(2, 1) * 2\n",
    "    # plot the std deviation\n",
    "    plt.errorbar(mean_mu_scaled[0], mean_mu_scaled[1],\n",
    "                 yerr=mean_stddev_scaled[1], xerr=mean_stddev_scaled[0],\n",
    "                 linestyle='None')\n",
    "    # plot the means\n",
    "    plt.scatter(mean_mu_scaled[0], mean_mu_scaled[1])\n",
    "\n",
    "    for i, txt in enumerate([str(i) for i in range(0,10)]):\n",
    "        plt.annotate(txt, (mean_mu_scaled[0][i] + 3, mean_mu_scaled[1][i] - 3),\n",
    "                     color='blue',\n",
    "                     bbox={'facecolor':'white', 'alpha':0.9, 'pad':1, 'edgecolor':'none'})\n",
    "    plt.show()\n",
    "\n",
    "plot_latent_space(model)"
   ]
  },
  {
   "cell_type": "markdown",
   "metadata": {},
   "source": [
    "## Exploring the influence of the KL-divergence in the loss\n",
    "\n",
    "Let's now investigate the influence of the KL-divergence by training\n",
    "- one model where we weight the KL-divergence part of the loss by a factor of 30 and\n",
    "- one model where we remove it (weight 0).\n",
    "\n",
    "Visualize the latent space as we did above.\n",
    "\n",
    "**ToDo** What do you observe? How can these results be explained? What is the role of the KL divergence term?\n",
    "\n"
   ]
  },
  {
   "cell_type": "code",
   "execution_count": null,
   "metadata": {},
   "outputs": [],
   "source": [
    "## START TODO ########################\n",
    "# model_large_kl = \n",
    "## END TODO ########################"
   ]
  },
  {
   "cell_type": "code",
   "execution_count": null,
   "metadata": {},
   "outputs": [],
   "source": [
    "plot_latent_space(model_large_kl)"
   ]
  },
  {
   "cell_type": "code",
   "execution_count": null,
   "metadata": {},
   "outputs": [],
   "source": [
    "## START TODO ########################\n",
    "# model_no_kl =\n",
    "## END TODO ########################\n"
   ]
  },
  {
   "cell_type": "code",
   "execution_count": null,
   "metadata": {},
   "outputs": [],
   "source": [
    "plot_latent_space(model_no_kl)"
   ]
  },
  {
   "cell_type": "markdown",
   "metadata": {},
   "source": [
    "### Your Feedback on Exercise 7.2\n",
    "\n",
    "* We had some problems to observe that the Linear layer had to be flatten with .view()\n",
    "* We think it was a helpful task to understand how VAE work, especially the reparameterization trick.\n",
    "* We needed about 8 hours for this task."
   ]
  },
  {
   "cell_type": "code",
   "execution_count": null,
   "metadata": {},
   "outputs": [],
   "source": []
  }
 ],
 "metadata": {
  "kernelspec": {
   "display_name": "Python 3",
   "language": "python",
   "name": "python3"
  },
  "language_info": {
   "codemirror_mode": {
    "name": "ipython",
    "version": 3
   },
   "file_extension": ".py",
   "mimetype": "text/x-python",
   "name": "python",
   "nbconvert_exporter": "python",
   "pygments_lexer": "ipython3",
   "version": "3.6.5"
  }
 },
 "nbformat": 4,
 "nbformat_minor": 2
}
